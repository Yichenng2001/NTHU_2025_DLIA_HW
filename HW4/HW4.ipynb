{
 "cells": [
  {
   "cell_type": "markdown",
   "id": "609dcb62-c2f8-4c6d-9c89-63dc0148a87c",
   "metadata": {
    "id": "609dcb62-c2f8-4c6d-9c89-63dc0148a87c"
   },
   "source": [
    "<div align=\"center\">\n",
    "\n",
    "### Lab 4\n",
    "\n",
    "# National Tsing Hua University\n",
    "\n",
    "#### Spring 2025\n",
    "\n",
    "#### 11320IEEM 513600\n",
    "\n",
    "#### Deep Learning and Industrial Applications\n",
    "    \n",
    "## Lab 4: Predicting Stock Price with Deep Learning\n",
    "\n",
    "</div>"
   ]
  },
  {
   "cell_type": "markdown",
   "id": "061c22d2-eec4-40f4-866b-ccaa2d9a2963",
   "metadata": {
    "id": "061c22d2-eec4-40f4-866b-ccaa2d9a2963",
    "jp-MarkdownHeadingCollapsed": true,
    "tags": []
   },
   "source": [
    "### Introduction\n",
    "\n",
    "In this lab, we explore the application of time-series datasets using Long Short-Term Memory (LSTM) networks, a type of recurrent neural network, to predict stock prices. Specifically, we will use historical price data from Nvidia to forecast the stock's price for the next day based on the prices of the previous N days. This approach is particularly relevant given the volatile nature of stock markets and the increasing reliance on automated trading systems.\n",
    "\n",
    "### Objectives\n",
    "\n",
    "- To understand the fundamentals of LSTM networks and their application in time-series forecasting.\n",
    "- To develop a predictive model that can accurately forecast Nvidia's stock price for the next day using historical data.\n",
    "\n",
    "### Dataset\n",
    "\n",
    "The dataset for this lab is from the \"Huge Stock Market Dataset\" available on Kaggle. This dataset includes daily prices and volumes for all US stocks and ETFs, with a specific focus on Nvidia (NVDA). The dataset features include:\n",
    "\n",
    "- **Date**: The recorded data points.\n",
    "- **Open**: The price at which the stock first traded upon the opening of an exchange on a given trading day.\n",
    "- **High**: The highest price at which the stock traded during the trading day.\n",
    "- **Low**: The lowest price at which the stock traded during the trading day.\n",
    "- **Close**: The price of the stock at closing time.\n",
    "- **Volume**: The number of shares or contracts traded in a security or an entire market during a given period.\n",
    "- **OpenInt**: The total number of outstanding derivative contracts, like options or futures. [More details here](https://www.kaggle.com/datasets/borismarjanovic/price-volume-data-for-all-us-stocks-etfs/discussion/121096)\n",
    "\n",
    "### References\n",
    "\n",
    "- [Huge Stock Market Dataset](https://www.kaggle.com/datasets/borismarjanovic/price-volume-data-for-all-us-stocks-etfs) for the dataset used in this lab.\n"
   ]
  },
  {
   "cell_type": "markdown",
   "id": "ad594fc8-4989-40f3-b124-4550fe7df386",
   "metadata": {
    "id": "ad594fc8-4989-40f3-b124-4550fe7df386"
   },
   "source": [
    "## A. Checking and Preprocessing"
   ]
  },
  {
   "cell_type": "code",
   "execution_count": 761,
   "id": "42a3eafd-cbcd-4c56-82cb-83a0bfa2399e",
   "metadata": {
    "colab": {
     "base_uri": "https://localhost:8080/",
     "height": 424
    },
    "executionInfo": {
     "elapsed": 2113,
     "status": "ok",
     "timestamp": 1744823379713,
     "user": {
      "displayName": "林明聰",
      "userId": "10350944269371174646"
     },
     "user_tz": -480
    },
    "id": "42a3eafd-cbcd-4c56-82cb-83a0bfa2399e",
    "outputId": "04904277-f9b5-45ab-9daa-9d0fade46bce"
   },
   "outputs": [
    {
     "data": {
      "application/vnd.microsoft.datawrangler.viewer.v0+json": {
       "columns": [
        {
         "name": "index",
         "rawType": "int64",
         "type": "integer"
        },
        {
         "name": "Date",
         "rawType": "object",
         "type": "string"
        },
        {
         "name": "Open",
         "rawType": "float64",
         "type": "float"
        },
        {
         "name": "High",
         "rawType": "float64",
         "type": "float"
        },
        {
         "name": "Low",
         "rawType": "float64",
         "type": "float"
        },
        {
         "name": "Close",
         "rawType": "float64",
         "type": "float"
        },
        {
         "name": "Volume",
         "rawType": "int64",
         "type": "integer"
        },
        {
         "name": "OpenInt",
         "rawType": "int64",
         "type": "integer"
        }
       ],
       "conversionMethod": "pd.DataFrame",
       "ref": "888b67f3-b5c8-4f45-b378-d74964a4eaca",
       "rows": [
        [
         "0",
         "1999-01-22",
         "1.6238",
         "1.8092",
         "1.4379",
         "1.5215",
         "18297633",
         "0"
        ],
        [
         "1",
         "1999-01-25",
         "1.6423",
         "1.698",
         "1.5215",
         "1.6793",
         "3445279",
         "0"
        ],
        [
         "2",
         "1999-01-26",
         "1.698",
         "1.735",
         "1.5311",
         "1.5494",
         "2320993",
         "0"
        ],
        [
         "3",
         "1999-01-27",
         "1.5586",
         "1.5957",
         "1.466",
         "1.5494",
         "1662658",
         "0"
        ],
        [
         "4",
         "1999-01-28",
         "1.5494",
         "1.5586",
         "1.5311",
         "1.5401",
         "1540110",
         "0"
        ],
        [
         "5",
         "1999-01-29",
         "1.5401",
         "1.5494",
         "1.466",
         "1.466",
         "1659098",
         "0"
        ],
        [
         "6",
         "1999-02-01",
         "1.466",
         "1.5124",
         "1.466",
         "1.4938",
         "1046355",
         "0"
        ],
        [
         "7",
         "1999-02-02",
         "1.466",
         "1.5124",
         "1.336",
         "1.3824",
         "1779388",
         "0"
        ],
        [
         "8",
         "1999-02-03",
         "1.3642",
         "1.429",
         "1.3546",
         "1.4104",
         "518004",
         "0"
        ],
        [
         "9",
         "1999-02-04",
         "1.429",
         "1.5311",
         "1.4104",
         "1.4843",
         "1241980",
         "0"
        ],
        [
         "10",
         "1999-02-05",
         "1.5124",
         "1.5494",
         "1.4752",
         "1.5311",
         "931244",
         "0"
        ],
        [
         "11",
         "1999-02-08",
         "1.5401",
         "1.5494",
         "1.4752",
         "1.4752",
         "1039890",
         "0"
        ],
        [
         "12",
         "1999-02-09",
         "1.5124",
         "1.5215",
         "1.4009",
         "1.4196",
         "588170",
         "0"
        ],
        [
         "13",
         "1999-02-10",
         "1.4196",
         "1.4566",
         "1.3824",
         "1.4104",
         "1014343",
         "0"
        ],
        [
         "14",
         "1999-02-11",
         "1.4104",
         "1.5864",
         "1.4104",
         "1.5311",
         "900846",
         "0"
        ],
        [
         "15",
         "1999-02-12",
         "1.5494",
         "1.6238",
         "1.5494",
         "1.6145",
         "754695",
         "0"
        ],
        [
         "16",
         "1999-02-16",
         "1.6423",
         "1.707",
         "1.4566",
         "1.6238",
         "1438900",
         "0"
        ],
        [
         "17",
         "1999-02-17",
         "1.5864",
         "1.6052",
         "1.5124",
         "1.5401",
         "458186",
         "0"
        ],
        [
         "18",
         "1999-02-18",
         "1.5864",
         "1.6052",
         "1.5215",
         "1.5586",
         "489549",
         "0"
        ],
        [
         "19",
         "1999-02-19",
         "1.5494",
         "1.6423",
         "1.5311",
         "1.6145",
         "520268",
         "0"
        ],
        [
         "20",
         "1999-02-22",
         "1.6423",
         "1.6607",
         "1.5401",
         "1.6238",
         "1396542",
         "0"
        ],
        [
         "21",
         "1999-02-23",
         "1.6607",
         "1.735",
         "1.5679",
         "1.698",
         "944178",
         "0"
        ],
        [
         "22",
         "1999-02-24",
         "1.9482",
         "2.0318",
         "1.7905",
         "1.837",
         "4139829",
         "0"
        ],
        [
         "23",
         "1999-02-25",
         "1.9114",
         "1.9761",
         "1.7539",
         "1.7812",
         "1005937",
         "0"
        ],
        [
         "24",
         "1999-02-26",
         "1.7999",
         "1.8557",
         "1.6793",
         "1.698",
         "1180222",
         "0"
        ],
        [
         "25",
         "1999-03-01",
         "1.735",
         "1.7812",
         "1.6238",
         "1.707",
         "624384",
         "0"
        ],
        [
         "26",
         "1999-03-02",
         "1.698",
         "1.707",
         "1.6607",
         "1.6886",
         "381552",
         "0"
        ],
        [
         "27",
         "1999-03-03",
         "1.698",
         "1.698",
         "1.5679",
         "1.5772",
         "427792",
         "0"
        ],
        [
         "28",
         "1999-03-04",
         "1.6513",
         "1.6607",
         "1.5311",
         "1.5401",
         "403539",
         "0"
        ],
        [
         "29",
         "1999-03-05",
         "1.5586",
         "1.6329",
         "1.5586",
         "1.6238",
         "538052",
         "0"
        ],
        [
         "30",
         "1999-03-08",
         "1.5864",
         "1.698",
         "1.5586",
         "1.6513",
         "526088",
         "0"
        ],
        [
         "31",
         "1999-03-09",
         "1.6513",
         "1.7258",
         "1.6513",
         "1.707",
         "979747",
         "0"
        ],
        [
         "32",
         "1999-03-10",
         "1.7258",
         "1.7258",
         "1.6513",
         "1.6793",
         "1586024",
         "0"
        ],
        [
         "33",
         "1999-03-11",
         "1.6513",
         "1.6793",
         "1.6052",
         "1.6052",
         "371203",
         "0"
        ],
        [
         "34",
         "1999-03-12",
         "1.6145",
         "1.6145",
         "1.5494",
         "1.5772",
         "627942",
         "0"
        ],
        [
         "35",
         "1999-03-15",
         "1.6145",
         "1.6607",
         "1.6052",
         "1.6423",
         "745320",
         "0"
        ],
        [
         "36",
         "1999-03-16",
         "1.6513",
         "1.67",
         "1.5772",
         "1.5864",
         "542255",
         "0"
        ],
        [
         "37",
         "1999-03-17",
         "1.6052",
         "1.6329",
         "1.5586",
         "1.5957",
         "358591",
         "0"
        ],
        [
         "38",
         "1999-03-18",
         "1.6052",
         "1.6423",
         "1.5679",
         "1.6238",
         "323995",
         "0"
        ],
        [
         "39",
         "1999-03-19",
         "1.6145",
         "1.67",
         "1.6145",
         "1.6238",
         "726563",
         "0"
        ],
        [
         "40",
         "1999-03-22",
         "1.6607",
         "1.6607",
         "1.5772",
         "1.5772",
         "258678",
         "0"
        ],
        [
         "41",
         "1999-03-23",
         "1.5864",
         "1.5864",
         "1.4473",
         "1.4752",
         "1107467",
         "0"
        ],
        [
         "42",
         "1999-03-24",
         "1.466",
         "1.4752",
         "1.4104",
         "1.466",
         "422290",
         "0"
        ],
        [
         "43",
         "1999-03-25",
         "1.466",
         "1.5494",
         "1.4566",
         "1.4843",
         "279050",
         "0"
        ],
        [
         "44",
         "1999-03-26",
         "1.5124",
         "1.6238",
         "1.5124",
         "1.6238",
         "601751",
         "0"
        ],
        [
         "45",
         "1999-03-29",
         "1.67",
         "1.707",
         "1.6423",
         "1.67",
         "457860",
         "0"
        ],
        [
         "46",
         "1999-03-30",
         "1.67",
         "1.6886",
         "1.5215",
         "1.5311",
         "476938",
         "0"
        ],
        [
         "47",
         "1999-03-31",
         "1.5772",
         "1.6513",
         "1.503",
         "1.6329",
         "1034716",
         "0"
        ],
        [
         "48",
         "1999-04-01",
         "1.6329",
         "1.6423",
         "1.5586",
         "1.5864",
         "211149",
         "0"
        ],
        [
         "49",
         "1999-04-05",
         "1.5679",
         "1.6052",
         "1.5311",
         "1.5401",
         "674504",
         "0"
        ]
       ],
       "shape": {
        "columns": 7,
        "rows": 4733
       }
      },
      "text/html": [
       "<div>\n",
       "<style scoped>\n",
       "    .dataframe tbody tr th:only-of-type {\n",
       "        vertical-align: middle;\n",
       "    }\n",
       "\n",
       "    .dataframe tbody tr th {\n",
       "        vertical-align: top;\n",
       "    }\n",
       "\n",
       "    .dataframe thead th {\n",
       "        text-align: right;\n",
       "    }\n",
       "</style>\n",
       "<table border=\"1\" class=\"dataframe\">\n",
       "  <thead>\n",
       "    <tr style=\"text-align: right;\">\n",
       "      <th></th>\n",
       "      <th>Date</th>\n",
       "      <th>Open</th>\n",
       "      <th>High</th>\n",
       "      <th>Low</th>\n",
       "      <th>Close</th>\n",
       "      <th>Volume</th>\n",
       "      <th>OpenInt</th>\n",
       "    </tr>\n",
       "  </thead>\n",
       "  <tbody>\n",
       "    <tr>\n",
       "      <th>0</th>\n",
       "      <td>1999-01-22</td>\n",
       "      <td>1.6238</td>\n",
       "      <td>1.8092</td>\n",
       "      <td>1.4379</td>\n",
       "      <td>1.5215</td>\n",
       "      <td>18297633</td>\n",
       "      <td>0</td>\n",
       "    </tr>\n",
       "    <tr>\n",
       "      <th>1</th>\n",
       "      <td>1999-01-25</td>\n",
       "      <td>1.6423</td>\n",
       "      <td>1.6980</td>\n",
       "      <td>1.5215</td>\n",
       "      <td>1.6793</td>\n",
       "      <td>3445279</td>\n",
       "      <td>0</td>\n",
       "    </tr>\n",
       "    <tr>\n",
       "      <th>2</th>\n",
       "      <td>1999-01-26</td>\n",
       "      <td>1.6980</td>\n",
       "      <td>1.7350</td>\n",
       "      <td>1.5311</td>\n",
       "      <td>1.5494</td>\n",
       "      <td>2320993</td>\n",
       "      <td>0</td>\n",
       "    </tr>\n",
       "    <tr>\n",
       "      <th>3</th>\n",
       "      <td>1999-01-27</td>\n",
       "      <td>1.5586</td>\n",
       "      <td>1.5957</td>\n",
       "      <td>1.4660</td>\n",
       "      <td>1.5494</td>\n",
       "      <td>1662658</td>\n",
       "      <td>0</td>\n",
       "    </tr>\n",
       "    <tr>\n",
       "      <th>4</th>\n",
       "      <td>1999-01-28</td>\n",
       "      <td>1.5494</td>\n",
       "      <td>1.5586</td>\n",
       "      <td>1.5311</td>\n",
       "      <td>1.5401</td>\n",
       "      <td>1540110</td>\n",
       "      <td>0</td>\n",
       "    </tr>\n",
       "    <tr>\n",
       "      <th>...</th>\n",
       "      <td>...</td>\n",
       "      <td>...</td>\n",
       "      <td>...</td>\n",
       "      <td>...</td>\n",
       "      <td>...</td>\n",
       "      <td>...</td>\n",
       "      <td>...</td>\n",
       "    </tr>\n",
       "    <tr>\n",
       "      <th>4728</th>\n",
       "      <td>2017-11-06</td>\n",
       "      <td>207.2000</td>\n",
       "      <td>209.9800</td>\n",
       "      <td>206.7000</td>\n",
       "      <td>209.6300</td>\n",
       "      <td>9731783</td>\n",
       "      <td>0</td>\n",
       "    </tr>\n",
       "    <tr>\n",
       "      <th>4729</th>\n",
       "      <td>2017-11-07</td>\n",
       "      <td>210.5500</td>\n",
       "      <td>212.9000</td>\n",
       "      <td>210.0560</td>\n",
       "      <td>212.0000</td>\n",
       "      <td>10671815</td>\n",
       "      <td>0</td>\n",
       "    </tr>\n",
       "    <tr>\n",
       "      <th>4730</th>\n",
       "      <td>2017-11-08</td>\n",
       "      <td>211.8500</td>\n",
       "      <td>212.0000</td>\n",
       "      <td>207.2400</td>\n",
       "      <td>209.1600</td>\n",
       "      <td>13033902</td>\n",
       "      <td>0</td>\n",
       "    </tr>\n",
       "    <tr>\n",
       "      <th>4731</th>\n",
       "      <td>2017-11-09</td>\n",
       "      <td>205.2700</td>\n",
       "      <td>206.3300</td>\n",
       "      <td>200.3700</td>\n",
       "      <td>205.3200</td>\n",
       "      <td>23895006</td>\n",
       "      <td>0</td>\n",
       "    </tr>\n",
       "    <tr>\n",
       "      <th>4732</th>\n",
       "      <td>2017-11-10</td>\n",
       "      <td>213.0800</td>\n",
       "      <td>218.6700</td>\n",
       "      <td>211.6300</td>\n",
       "      <td>216.1400</td>\n",
       "      <td>31300857</td>\n",
       "      <td>0</td>\n",
       "    </tr>\n",
       "  </tbody>\n",
       "</table>\n",
       "<p>4733 rows × 7 columns</p>\n",
       "</div>"
      ],
      "text/plain": [
       "            Date      Open      High       Low     Close    Volume  OpenInt\n",
       "0     1999-01-22    1.6238    1.8092    1.4379    1.5215  18297633        0\n",
       "1     1999-01-25    1.6423    1.6980    1.5215    1.6793   3445279        0\n",
       "2     1999-01-26    1.6980    1.7350    1.5311    1.5494   2320993        0\n",
       "3     1999-01-27    1.5586    1.5957    1.4660    1.5494   1662658        0\n",
       "4     1999-01-28    1.5494    1.5586    1.5311    1.5401   1540110        0\n",
       "...          ...       ...       ...       ...       ...       ...      ...\n",
       "4728  2017-11-06  207.2000  209.9800  206.7000  209.6300   9731783        0\n",
       "4729  2017-11-07  210.5500  212.9000  210.0560  212.0000  10671815        0\n",
       "4730  2017-11-08  211.8500  212.0000  207.2400  209.1600  13033902        0\n",
       "4731  2017-11-09  205.2700  206.3300  200.3700  205.3200  23895006        0\n",
       "4732  2017-11-10  213.0800  218.6700  211.6300  216.1400  31300857        0\n",
       "\n",
       "[4733 rows x 7 columns]"
      ]
     },
     "execution_count": 761,
     "metadata": {},
     "output_type": "execute_result"
    }
   ],
   "source": [
    "import pandas as pd\n",
    "import numpy as np\n",
    "import torch\n",
    "from torch.utils.data import DataLoader, TensorDataset\n",
    "import matplotlib.pyplot as plt\n",
    "import random\n",
    "from sklearn.preprocessing import MinMaxScaler, StandardScaler\n",
    "from sklearn.linear_model import LassoCV\n",
    "\n",
    "df = pd.read_csv('./nvda.us.txt')\n",
    "df"
   ]
  },
  {
   "cell_type": "code",
   "execution_count": 762,
   "id": "7b2193eb",
   "metadata": {},
   "outputs": [],
   "source": [
    "# SEED\n",
    "def set_seed(seed):\n",
    "    torch.manual_seed(seed)\n",
    "    torch.cuda.manual_seed(seed)\n",
    "    torch.cuda.manual_seed_all(seed)  \n",
    "    np.random.seed(seed)\n",
    "    random.seed(seed)\n",
    "    torch.backends.cudnn.deterministic = True  \n",
    "    torch.backends.cudnn.benchmark = False     \n",
    "\n",
    "set_seed(1314520)"
   ]
  },
  {
   "cell_type": "code",
   "execution_count": 763,
   "id": "97f3e5ca-600c-42f6-88d2-8e057ca2c612",
   "metadata": {
    "id": "97f3e5ca-600c-42f6-88d2-8e057ca2c612"
   },
   "outputs": [
    {
     "data": {
      "image/png": "[encoded data removed]",
      "text/plain": [
       "<Figure size 1500x500 with 1 Axes>"
      ]
     },
     "metadata": {},
     "output_type": "display_data"
    }
   ],
   "source": [
    "plot = df.plot('Date', 'Volume', figsize=(15, 5))"
   ]
  },
  {
   "cell_type": "code",
   "execution_count": 764,
   "id": "f88398db",
   "metadata": {},
   "outputs": [
    {
     "data": {
      "application/vnd.microsoft.datawrangler.viewer.v0+json": {
       "columns": [
        {
         "name": "index",
         "rawType": "object",
         "type": "string"
        },
        {
         "name": "High",
         "rawType": "float64",
         "type": "float"
        },
        {
         "name": "Low",
         "rawType": "float64",
         "type": "float"
        },
        {
         "name": "Open",
         "rawType": "float64",
         "type": "float"
        },
        {
         "name": "Close",
         "rawType": "float64",
         "type": "float"
        },
        {
         "name": "Volume",
         "rawType": "float64",
         "type": "float"
        }
       ],
       "conversionMethod": "pd.DataFrame",
       "ref": "d1b173ef-fbb2-46ad-a7f3-31c3c9f29f29",
       "rows": [
        [
         "High",
         "1.0",
         "0.9997704498921646",
         "0.9998615690777442",
         "0.9998379588938701",
         "-0.004773848435359009"
        ],
        [
         "Low",
         "0.9997704498921646",
         "1.0",
         "0.9998037130329193",
         "0.9998626602452595",
         "-0.01178487226535354"
        ],
        [
         "Open",
         "0.9998615690777442",
         "0.9998037130329193",
         "1.0",
         "0.9996580885031532",
         "-0.007864739816563226"
        ],
        [
         "Close",
         "0.9998379588938701",
         "0.9998626602452595",
         "0.9996580885031532",
         "1.0",
         "-0.00833879596165046"
        ],
        [
         "Volume",
         "-0.004773848435359009",
         "-0.01178487226535354",
         "-0.007864739816563226",
         "-0.00833879596165046",
         "1.0"
        ]
       ],
       "shape": {
        "columns": 5,
        "rows": 5
       }
      },
      "text/html": [
       "<div>\n",
       "<style scoped>\n",
       "    .dataframe tbody tr th:only-of-type {\n",
       "        vertical-align: middle;\n",
       "    }\n",
       "\n",
       "    .dataframe tbody tr th {\n",
       "        vertical-align: top;\n",
       "    }\n",
       "\n",
       "    .dataframe thead th {\n",
       "        text-align: right;\n",
       "    }\n",
       "</style>\n",
       "<table border=\"1\" class=\"dataframe\">\n",
       "  <thead>\n",
       "    <tr style=\"text-align: right;\">\n",
       "      <th></th>\n",
       "      <th>High</th>\n",
       "      <th>Low</th>\n",
       "      <th>Open</th>\n",
       "      <th>Close</th>\n",
       "      <th>Volume</th>\n",
       "    </tr>\n",
       "  </thead>\n",
       "  <tbody>\n",
       "    <tr>\n",
       "      <th>High</th>\n",
       "      <td>1.000000</td>\n",
       "      <td>0.999770</td>\n",
       "      <td>0.999862</td>\n",
       "      <td>0.999838</td>\n",
       "      <td>-0.004774</td>\n",
       "    </tr>\n",
       "    <tr>\n",
       "      <th>Low</th>\n",
       "      <td>0.999770</td>\n",
       "      <td>1.000000</td>\n",
       "      <td>0.999804</td>\n",
       "      <td>0.999863</td>\n",
       "      <td>-0.011785</td>\n",
       "    </tr>\n",
       "    <tr>\n",
       "      <th>Open</th>\n",
       "      <td>0.999862</td>\n",
       "      <td>0.999804</td>\n",
       "      <td>1.000000</td>\n",
       "      <td>0.999658</td>\n",
       "      <td>-0.007865</td>\n",
       "    </tr>\n",
       "    <tr>\n",
       "      <th>Close</th>\n",
       "      <td>0.999838</td>\n",
       "      <td>0.999863</td>\n",
       "      <td>0.999658</td>\n",
       "      <td>1.000000</td>\n",
       "      <td>-0.008339</td>\n",
       "    </tr>\n",
       "    <tr>\n",
       "      <th>Volume</th>\n",
       "      <td>-0.004774</td>\n",
       "      <td>-0.011785</td>\n",
       "      <td>-0.007865</td>\n",
       "      <td>-0.008339</td>\n",
       "      <td>1.000000</td>\n",
       "    </tr>\n",
       "  </tbody>\n",
       "</table>\n",
       "</div>"
      ],
      "text/plain": [
       "            High       Low      Open     Close    Volume\n",
       "High    1.000000  0.999770  0.999862  0.999838 -0.004774\n",
       "Low     0.999770  1.000000  0.999804  0.999863 -0.011785\n",
       "Open    0.999862  0.999804  1.000000  0.999658 -0.007865\n",
       "Close   0.999838  0.999863  0.999658  1.000000 -0.008339\n",
       "Volume -0.004774 -0.011785 -0.007865 -0.008339  1.000000"
      ]
     },
     "execution_count": 764,
     "metadata": {},
     "output_type": "execute_result"
    }
   ],
   "source": [
    "df[[\"High\", \"Low\", \"Open\", \"Close\", \"Volume\"]].corr()"
   ]
  },
  {
   "cell_type": "code",
   "execution_count": 765,
   "id": "34241797-60f0-4818-a44b-f5379948d621",
   "metadata": {
    "id": "34241797-60f0-4818-a44b-f5379948d621"
   },
   "outputs": [
    {
     "data": {
      "text/plain": [
       "Index(['Date', 'Open', 'High', 'Low', 'Close', 'Volume', 'OpenInt'], dtype='object')"
      ]
     },
     "execution_count": 765,
     "metadata": {},
     "output_type": "execute_result"
    }
   ],
   "source": [
    "df.columns"
   ]
  },
  {
   "cell_type": "code",
   "execution_count": 766,
   "id": "026585db-a6d8-4062-85de-e3a7eaebed72",
   "metadata": {
    "id": "026585db-a6d8-4062-85de-e3a7eaebed72"
   },
   "outputs": [
    {
     "name": "stdout",
     "output_type": "stream",
     "text": [
      "<class 'pandas.core.frame.DataFrame'>\n",
      "RangeIndex: 4733 entries, 0 to 4732\n",
      "Data columns (total 7 columns):\n",
      " #   Column   Non-Null Count  Dtype  \n",
      "---  ------   --------------  -----  \n",
      " 0   Date     4733 non-null   object \n",
      " 1   Open     4733 non-null   float64\n",
      " 2   High     4733 non-null   float64\n",
      " 3   Low      4733 non-null   float64\n",
      " 4   Close    4733 non-null   float64\n",
      " 5   Volume   4733 non-null   int64  \n",
      " 6   OpenInt  4733 non-null   int64  \n",
      "dtypes: float64(4), int64(2), object(1)\n",
      "memory usage: 259.0+ KB\n"
     ]
    }
   ],
   "source": [
    "df.info()"
   ]
  },
  {
   "cell_type": "code",
   "execution_count": 767,
   "id": "69031e6d-0fb5-49d9-b723-a0d1fee08c3c",
   "metadata": {
    "id": "69031e6d-0fb5-49d9-b723-a0d1fee08c3c"
   },
   "outputs": [
    {
     "data": {
      "text/plain": [
       "Date       0\n",
       "Open       0\n",
       "High       0\n",
       "Low        0\n",
       "Close      0\n",
       "Volume     0\n",
       "OpenInt    0\n",
       "dtype: int64"
      ]
     },
     "execution_count": 767,
     "metadata": {},
     "output_type": "execute_result"
    }
   ],
   "source": [
    "# checking for null values\n",
    "df.isnull().sum()"
   ]
  },
  {
   "cell_type": "code",
   "execution_count": 768,
   "id": "cb3090f8-2cfa-4f56-8aa5-cf954bb19932",
   "metadata": {
    "id": "cb3090f8-2cfa-4f56-8aa5-cf954bb19932"
   },
   "outputs": [],
   "source": [
    "df = df.dropna()"
   ]
  },
  {
   "cell_type": "code",
   "execution_count": 769,
   "id": "38aadbee-d68f-4ae0-b842-b40800b0cac9",
   "metadata": {
    "id": "38aadbee-d68f-4ae0-b842-b40800b0cac9"
   },
   "outputs": [
    {
     "data": {
      "text/plain": [
       "(4733, 7)"
      ]
     },
     "execution_count": 769,
     "metadata": {},
     "output_type": "execute_result"
    }
   ],
   "source": [
    "df.shape"
   ]
  },
  {
   "cell_type": "code",
   "execution_count": 770,
   "id": "051108c6-7011-4187-9e36-bd2944a019ca",
   "metadata": {
    "id": "051108c6-7011-4187-9e36-bd2944a019ca"
   },
   "outputs": [
    {
     "data": {
      "application/vnd.microsoft.datawrangler.viewer.v0+json": {
       "columns": [
        {
         "name": "index",
         "rawType": "object",
         "type": "string"
        },
        {
         "name": "Open",
         "rawType": "float64",
         "type": "float"
        },
        {
         "name": "High",
         "rawType": "float64",
         "type": "float"
        },
        {
         "name": "Low",
         "rawType": "float64",
         "type": "float"
        },
        {
         "name": "Close",
         "rawType": "float64",
         "type": "float"
        },
        {
         "name": "Volume",
         "rawType": "float64",
         "type": "float"
        },
        {
         "name": "OpenInt",
         "rawType": "float64",
         "type": "float"
        }
       ],
       "conversionMethod": "pd.DataFrame",
       "ref": "4104d778-9ef5-4b37-9e51-5beeb4281cf8",
       "rows": [
        [
         "count",
         "4733.0",
         "4733.0",
         "4733.0",
         "4733.0",
         "4733.0",
         "4733.0"
        ],
        [
         "mean",
         "20.796242045214452",
         "21.157331565603215",
         "20.420417261778997",
         "20.805404310162686",
         "16152870.570885273",
         "0.0"
        ],
        [
         "std",
         "30.236283591120824",
         "30.61562240587683",
         "29.79295785387948",
         "30.2637047723607",
         "12724458.499020938",
         "0.0"
        ],
        [
         "min",
         "1.2989",
         "1.3175",
         "1.2339",
         "1.2619",
         "0.0",
         "0.0"
        ],
        [
         "25%",
         "7.9883",
         "8.2479",
         "7.7564",
         "7.9789",
         "8181100.0",
         "0.0"
        ],
        [
         "50%",
         "12.963",
         "13.238",
         "12.721",
         "12.99",
         "13902713.0",
         "0.0"
        ],
        [
         "75%",
         "19.141",
         "19.418",
         "18.778",
         "19.106",
         "20516022.0",
         "0.0"
        ],
        [
         "max",
         "213.08",
         "218.67",
         "211.63",
         "216.14",
         "249665903.0",
         "0.0"
        ]
       ],
       "shape": {
        "columns": 6,
        "rows": 8
       }
      },
      "text/html": [
       "<div>\n",
       "<style scoped>\n",
       "    .dataframe tbody tr th:only-of-type {\n",
       "        vertical-align: middle;\n",
       "    }\n",
       "\n",
       "    .dataframe tbody tr th {\n",
       "        vertical-align: top;\n",
       "    }\n",
       "\n",
       "    .dataframe thead th {\n",
       "        text-align: right;\n",
       "    }\n",
       "</style>\n",
       "<table border=\"1\" class=\"dataframe\">\n",
       "  <thead>\n",
       "    <tr style=\"text-align: right;\">\n",
       "      <th></th>\n",
       "      <th>Open</th>\n",
       "      <th>High</th>\n",
       "      <th>Low</th>\n",
       "      <th>Close</th>\n",
       "      <th>Volume</th>\n",
       "      <th>OpenInt</th>\n",
       "    </tr>\n",
       "  </thead>\n",
       "  <tbody>\n",
       "    <tr>\n",
       "      <th>count</th>\n",
       "      <td>4733.000000</td>\n",
       "      <td>4733.000000</td>\n",
       "      <td>4733.000000</td>\n",
       "      <td>4733.000000</td>\n",
       "      <td>4.733000e+03</td>\n",
       "      <td>4733.0</td>\n",
       "    </tr>\n",
       "    <tr>\n",
       "      <th>mean</th>\n",
       "      <td>20.796242</td>\n",
       "      <td>21.157332</td>\n",
       "      <td>20.420417</td>\n",
       "      <td>20.805404</td>\n",
       "      <td>1.615287e+07</td>\n",
       "      <td>0.0</td>\n",
       "    </tr>\n",
       "    <tr>\n",
       "      <th>std</th>\n",
       "      <td>30.236284</td>\n",
       "      <td>30.615622</td>\n",
       "      <td>29.792958</td>\n",
       "      <td>30.263705</td>\n",
       "      <td>1.272446e+07</td>\n",
       "      <td>0.0</td>\n",
       "    </tr>\n",
       "    <tr>\n",
       "      <th>min</th>\n",
       "      <td>1.298900</td>\n",
       "      <td>1.317500</td>\n",
       "      <td>1.233900</td>\n",
       "      <td>1.261900</td>\n",
       "      <td>0.000000e+00</td>\n",
       "      <td>0.0</td>\n",
       "    </tr>\n",
       "    <tr>\n",
       "      <th>25%</th>\n",
       "      <td>7.988300</td>\n",
       "      <td>8.247900</td>\n",
       "      <td>7.756400</td>\n",
       "      <td>7.978900</td>\n",
       "      <td>8.181100e+06</td>\n",
       "      <td>0.0</td>\n",
       "    </tr>\n",
       "    <tr>\n",
       "      <th>50%</th>\n",
       "      <td>12.963000</td>\n",
       "      <td>13.238000</td>\n",
       "      <td>12.721000</td>\n",
       "      <td>12.990000</td>\n",
       "      <td>1.390271e+07</td>\n",
       "      <td>0.0</td>\n",
       "    </tr>\n",
       "    <tr>\n",
       "      <th>75%</th>\n",
       "      <td>19.141000</td>\n",
       "      <td>19.418000</td>\n",
       "      <td>18.778000</td>\n",
       "      <td>19.106000</td>\n",
       "      <td>2.051602e+07</td>\n",
       "      <td>0.0</td>\n",
       "    </tr>\n",
       "    <tr>\n",
       "      <th>max</th>\n",
       "      <td>213.080000</td>\n",
       "      <td>218.670000</td>\n",
       "      <td>211.630000</td>\n",
       "      <td>216.140000</td>\n",
       "      <td>2.496659e+08</td>\n",
       "      <td>0.0</td>\n",
       "    </tr>\n",
       "  </tbody>\n",
       "</table>\n",
       "</div>"
      ],
      "text/plain": [
       "              Open         High          Low        Close        Volume  \\\n",
       "count  4733.000000  4733.000000  4733.000000  4733.000000  4.733000e+03   \n",
       "mean     20.796242    21.157332    20.420417    20.805404  1.615287e+07   \n",
       "std      30.236284    30.615622    29.792958    30.263705  1.272446e+07   \n",
       "min       1.298900     1.317500     1.233900     1.261900  0.000000e+00   \n",
       "25%       7.988300     8.247900     7.756400     7.978900  8.181100e+06   \n",
       "50%      12.963000    13.238000    12.721000    12.990000  1.390271e+07   \n",
       "75%      19.141000    19.418000    18.778000    19.106000  2.051602e+07   \n",
       "max     213.080000   218.670000   211.630000   216.140000  2.496659e+08   \n",
       "\n",
       "       OpenInt  \n",
       "count   4733.0  \n",
       "mean       0.0  \n",
       "std        0.0  \n",
       "min        0.0  \n",
       "25%        0.0  \n",
       "50%        0.0  \n",
       "75%        0.0  \n",
       "max        0.0  "
      ]
     },
     "execution_count": 770,
     "metadata": {},
     "output_type": "execute_result"
    }
   ],
   "source": [
    "df.describe()"
   ]
  },
  {
   "cell_type": "markdown",
   "id": "8ce7a0c5-76d6-4863-ba61-0544a220962a",
   "metadata": {
    "id": "8ce7a0c5-76d6-4863-ba61-0544a220962a"
   },
   "source": [
    "#### Converting the DataFrame to a NumPy Array"
   ]
  },
  {
   "cell_type": "code",
   "execution_count": 771,
   "id": "5735baad-2db8-4306-aa4c-7788d2b49621",
   "metadata": {
    "id": "5735baad-2db8-4306-aa4c-7788d2b49621"
   },
   "outputs": [],
   "source": [
    "def create_sequences(input_data, output_data, window_size, step):\n",
    "    \n",
    "    print(f\"Input Data Size: {input_data.shape}, Output Data Size: {output_data.shape}, Window Size: {window_size}, Step: {step}\")\n",
    "    \n",
    "    sequences = []\n",
    "    labels = []\n",
    "    for i in range(0, len(input_data) - window_size, step):\n",
    "        sequences.append(input_data[i:(i + window_size)])\n",
    "        labels.append(output_data[i + window_size])\n",
    "    return np.array(sequences), np.array(labels)"
   ]
  },
  {
   "cell_type": "code",
   "execution_count": 772,
   "id": "29b8e189-7f39-435a-8038-39098b147325",
   "metadata": {
    "id": "29b8e189-7f39-435a-8038-39098b147325"
   },
   "outputs": [
    {
     "name": "stdout",
     "output_type": "stream",
     "text": [
      "Input Data Size: (4733, 4), Output Data Size: (4733,), Window Size: 8, Step: 10\n",
      "Shape of data X: (473, 8, 4)\n",
      "Shape of data y: (473,)\n",
      "Shape of data x_train: (340, 8, 4)\n",
      "Shape of data y_train: (340,)\n",
      "Shape of data x_val: (86, 8, 4)\n",
      "Shape of data y_val: (86,)\n",
      "Shape of data x_test: (47, 8, 4)\n",
      "Shape of data y_test: (47,)\n",
      "Number of samples in training and validation are 340 and 86.\n"
     ]
    }
   ],
   "source": [
    "# Select features\n",
    "features = df[['Open', 'High', 'Low', \"Close\"]]\n",
    "labels = df['High'].shift(-1)  # Next day's high price as label\n",
    "\n",
    "X, y = create_sequences(features, labels, window_size=8, step=10)\n",
    "\n",
    "print(f'Shape of data X: {X.shape}')\n",
    "print(f'Shape of data y: {y.shape}')\n",
    "\n",
    "# split the hold-out tests\n",
    "ind = np.linspace(0, len(X)-1, num=int(len(X)*0.1), dtype=int) # 10% hold-out\n",
    "x_test = X[ind]\n",
    "y_test = y[ind]\n",
    "all_ind = np.arange(len(X))\n",
    "remains_ind = np.delete(all_ind, ind)\n",
    "\n",
    "X = X[remains_ind]\n",
    "y = y[remains_ind]\n",
    "\n",
    "# shuffle dataset\n",
    "ind = np.random.permutation(len(X))\n",
    "X = X[ind]\n",
    "y = y[ind]\n",
    "split_point = int(X.shape[0]*0.8)\n",
    "\n",
    "x_train = X[:split_point]\n",
    "y_train = y[:split_point]\n",
    "x_val = X[split_point:]\n",
    "y_val = y[split_point:]\n",
    "\n",
    "train_mean = x_train.mean(axis=(0, 1), keepdims=True)\n",
    "train_std = x_train.std(axis=(0, 1), keepdims=True)\n",
    "\n",
    "x_train = (x_train - train_mean) / (train_std + 1e-8)\n",
    "x_val = (x_val - train_mean) / (train_std + 1e-8)\n",
    "x_test = (x_test - train_mean) / (train_std + 1e-8)\n",
    "\n",
    "print(f'Shape of data x_train: {x_train.shape}')\n",
    "print(f'Shape of data y_train: {y_train.shape}')\n",
    "print(f'Shape of data x_val: {x_val.shape}')\n",
    "print(f'Shape of data y_val: {y_val.shape}')\n",
    "print(f'Shape of data x_test: {x_test.shape}')\n",
    "print(f'Shape of data y_test: {y_test.shape}')\n",
    "\n",
    "# Convert to PyTorch tensors\n",
    "x_train = torch.from_numpy(x_train).float()\n",
    "y_train = torch.from_numpy(y_train).float()\n",
    "\n",
    "x_val = torch.from_numpy(x_val).float()\n",
    "y_val = torch.from_numpy(y_val).float()\n",
    "\n",
    "x_test = torch.from_numpy(x_test).float()\n",
    "y_test = torch.from_numpy(y_test).float()\n",
    "\n",
    "batch_size = 32\n",
    "\n",
    "# Create datasets\n",
    "train_dataset = TensorDataset(x_train, y_train)\n",
    "val_dataset = TensorDataset(x_val, y_val)\n",
    "test_dataset = TensorDataset(x_test, y_test)\n",
    "\n",
    "# Create dataloaders\n",
    "train_loader = DataLoader(train_dataset, batch_size=batch_size, shuffle=True)\n",
    "val_loader = DataLoader(val_dataset, batch_size=batch_size, shuffle=False)\n",
    "test_loader = DataLoader(test_dataset, batch_size=batch_size, shuffle=False)\n",
    "\n",
    "print(f'Number of samples in training and validation are {len(train_loader.dataset)} and {len(val_loader.dataset)}.')"
   ]
  },
  {
   "cell_type": "markdown",
   "id": "8ffc26b9-6044-41e9-93e2-7dc6250dbd27",
   "metadata": {
    "id": "8ffc26b9-6044-41e9-93e2-7dc6250dbd27"
   },
   "source": [
    "## B. Defining Neural Networks"
   ]
  },
  {
   "cell_type": "code",
   "execution_count": 773,
   "id": "77975746-a7a7-4676-9527-57674cd98c0f",
   "metadata": {
    "id": "77975746-a7a7-4676-9527-57674cd98c0f"
   },
   "outputs": [],
   "source": [
    "import torch.nn as nn\n",
    "\n",
    "class LSTMModel(nn.Module):\n",
    "    def __init__(self, input_dim, hidden_dim, num_layers, output_dim):\n",
    "        super().__init__()\n",
    "        self.hidden_dim = hidden_dim\n",
    "        self.num_layers = num_layers\n",
    "        self.lstm = nn.LSTM(input_dim, hidden_dim, num_layers, batch_first=True)\n",
    "        self.fc = nn.Linear(hidden_dim, output_dim)\n",
    "\n",
    "    def forward(self, x):\n",
    "        out, _ = self.lstm(x)\n",
    "        out = self.fc(out[:, -1, :])\n",
    "        return out"
   ]
  },
  {
   "cell_type": "markdown",
   "id": "cbb8b5b0-0ec0-406c-a42e-048aa00e05aa",
   "metadata": {
    "id": "cbb8b5b0-0ec0-406c-a42e-048aa00e05aa"
   },
   "source": [
    "## C. Training the Neural Network"
   ]
  },
  {
   "cell_type": "code",
   "execution_count": 774,
   "id": "3602ae7d-4034-4c49-b221-0c12a5824b18",
   "metadata": {
    "colab": {
     "base_uri": "https://localhost:8080/"
    },
    "executionInfo": {
     "elapsed": 108,
     "status": "ok",
     "timestamp": 1744823436118,
     "user": {
      "displayName": "林明聰",
      "userId": "10350944269371174646"
     },
     "user_tz": -480
    },
    "id": "3602ae7d-4034-4c49-b221-0c12a5824b18",
    "outputId": "c9e5e605-4755-46cd-8e4a-e2e3e666a910"
   },
   "outputs": [
    {
     "name": "stdout",
     "output_type": "stream",
     "text": [
      "Mon Apr 28 20:50:33 2025       \n",
      "+-----------------------------------------------------------------------------------------+\n",
      "| NVIDIA-SMI 560.94                 Driver Version: 560.94         CUDA Version: 12.6     |\n",
      "|-----------------------------------------+------------------------+----------------------+\n",
      "| GPU  Name                  Driver-Model | Bus-Id          Disp.A | Volatile Uncorr. ECC |\n",
      "| Fan  Temp   Perf          Pwr:Usage/Cap |           Memory-Usage | GPU-Util  Compute M. |\n",
      "|                                         |                        |               MIG M. |\n",
      "|=========================================+========================+======================|\n",
      "|   0  NVIDIA GeForce RTX 3050      WDDM  |   00000000:01:00.0  On |                  N/A |\n",
      "| 30%   31C    P8             14W /  130W |    1573MiB /   8192MiB |     23%      Default |\n",
      "|                                         |                        |                  N/A |\n",
      "+-----------------------------------------+------------------------+----------------------+\n",
      "                                                                                         \n",
      "+-----------------------------------------------------------------------------------------+\n",
      "| Processes:                                                                              |\n",
      "|  GPU   GI   CI        PID   Type   Process name                              GPU Memory |\n",
      "|        ID   ID                                                               Usage      |\n",
      "|=========================================================================================|\n",
      "|    0   N/A  N/A      2008    C+G   ...5n1h2txyewy\\ShellExperienceHost.exe      N/A      |\n",
      "|    0   N/A  N/A      8640    C+G   C:\\Windows\\explorer.exe                     N/A      |\n",
      "|    0   N/A  N/A      9212    C+G   ...on\\135.0.3179.73\\msedgewebview2.exe      N/A      |\n",
      "|    0   N/A  N/A     10248    C+G   ...nt.CBS_cw5n1h2txyewy\\SearchHost.exe      N/A      |\n",
      "|    0   N/A  N/A     10272    C+G   ...2txyewy\\StartMenuExperienceHost.exe      N/A      |\n",
      "|    0   N/A  N/A     11036      C   ...\\anaconda3\\envs\\Yichenng\\python.exe      N/A      |\n",
      "|    0   N/A  N/A     11856    C+G   ...Programs\\Microsoft VS Code\\Code.exe      N/A      |\n",
      "|    0   N/A  N/A     12680    C+G   ...CBS_cw5n1h2txyewy\\TextInputHost.exe      N/A      |\n",
      "|    0   N/A  N/A     14396    C+G   ...s\\System32\\ApplicationFrameHost.exe      N/A      |\n",
      "|    0   N/A  N/A     14408    C+G   ...siveControlPanel\\SystemSettings.exe      N/A      |\n",
      "|    0   N/A  N/A     14788    C+G   ...\\cef\\cef.win7x64\\steamwebhelper.exe      N/A      |\n",
      "|    0   N/A  N/A     15548    C+G   ...on\\135.0.3179.73\\msedgewebview2.exe      N/A      |\n",
      "|    0   N/A  N/A     15648    C+G   ...ata\\Local\\LINE\\bin\\current\\LINE.exe      N/A      |\n",
      "|    0   N/A  N/A     16120    C+G   ..._x64__8wekyb3d8bbwe\\WebViewHost.exe      N/A      |\n",
      "|    0   N/A  N/A     18372    C+G   ...les\\Microsoft OneDrive\\OneDrive.exe      N/A      |\n",
      "|    0   N/A  N/A     18688    C+G   ...995_x64__8wekyb3d8bbwe\\ms-teams.exe      N/A      |\n",
      "|    0   N/A  N/A     19016    C+G   ...crosoft\\Edge\\Application\\msedge.exe      N/A      |\n",
      "|    0   N/A  N/A     20460    C+G   C:\\Windows\\System32\\ShellHost.exe           N/A      |\n",
      "|    0   N/A  N/A     21180    C+G   ...995_x64__8wekyb3d8bbwe\\ms-teams.exe      N/A      |\n",
      "|    0   N/A  N/A     21816    C+G   ...ekyb3d8bbwe\\PhoneExperienceHost.exe      N/A      |\n",
      "|    0   N/A  N/A     25872    C+G   ...ft Office\\root\\Office16\\WINWORD.EXE      N/A      |\n",
      "|    0   N/A  N/A     26512    C+G   ...on\\135.0.3179.85\\msedgewebview2.exe      N/A      |\n",
      "|    0   N/A  N/A     28840    C+G   ...gin\\LineCall\\1.0.0.861\\LineCall.exe      N/A      |\n",
      "+-----------------------------------------------------------------------------------------+\n"
     ]
    }
   ],
   "source": [
    "# Check your GPU status.\n",
    "!nvidia-smi"
   ]
  },
  {
   "cell_type": "code",
   "execution_count": 775,
   "id": "f73a5c35-c15d-49bb-8a33-a7f017159499",
   "metadata": {
    "id": "f73a5c35-c15d-49bb-8a33-a7f017159499"
   },
   "outputs": [
    {
     "name": "stdout",
     "output_type": "stream",
     "text": [
      "LSTMModel(\n",
      "  (lstm): LSTM(4, 500, num_layers=2, batch_first=True)\n",
      "  (fc): Linear(in_features=500, out_features=1, bias=True)\n",
      ")\n"
     ]
    },
    {
     "name": "stderr",
     "output_type": "stream",
     "text": [
      "  2%|▏         | 3/200 [00:00<00:20,  9.38it/s]"
     ]
    },
    {
     "name": "stdout",
     "output_type": "stream",
     "text": [
      "Epoch 1/200, Train loss: 964.6708, Val loss: 1539.8115, Best Train loss: 964.6708, Best Val loss: 1539.8115\n",
      "Epoch 2/200, Train loss: 722.8451, Val loss: 1419.8623, Best Train loss: 722.8451, Best Val loss: 1419.8623\n",
      "Epoch 3/200, Train loss: 718.6448, Val loss: 1376.4860, Best Train loss: 718.6448, Best Val loss: 1376.4860\n",
      "Epoch 4/200, Train loss: 699.5586, Val loss: 1311.9146, Best Train loss: 699.5586, Best Val loss: 1311.9146\n"
     ]
    },
    {
     "name": "stderr",
     "output_type": "stream",
     "text": [
      "  4%|▎         | 7/200 [00:00<00:13, 14.38it/s]"
     ]
    },
    {
     "name": "stdout",
     "output_type": "stream",
     "text": [
      "Epoch 5/200, Train loss: 705.0802, Val loss: 1269.0385, Best Train loss: 705.0802, Best Val loss: 1269.0385\n",
      "Epoch 6/200, Train loss: 611.9094, Val loss: 1191.4956, Best Train loss: 611.9094, Best Val loss: 1191.4956\n",
      "Epoch 7/200, Train loss: 609.2347, Val loss: 1099.1930, Best Train loss: 609.2347, Best Val loss: 1099.1930\n",
      "Epoch 8/200, Train loss: 520.2670, Val loss: 1014.2051, Best Train loss: 520.2670, Best Val loss: 1014.2051\n"
     ]
    },
    {
     "name": "stderr",
     "output_type": "stream",
     "text": [
      "  6%|▌         | 11/200 [00:00<00:11, 16.44it/s]"
     ]
    },
    {
     "name": "stdout",
     "output_type": "stream",
     "text": [
      "Epoch 9/200, Train loss: 466.2399, Val loss: 937.7961, Best Train loss: 466.2399, Best Val loss: 937.7961\n",
      "Epoch 10/200, Train loss: 415.8795, Val loss: 867.9905, Best Train loss: 415.8795, Best Val loss: 867.9905\n",
      "Epoch 11/200, Train loss: 419.4483, Val loss: 803.4603, Best Train loss: 419.4483, Best Val loss: 803.4603\n",
      "Epoch 12/200, Train loss: 372.8742, Val loss: 745.4990, Best Train loss: 372.8742, Best Val loss: 745.4990\n"
     ]
    },
    {
     "name": "stderr",
     "output_type": "stream",
     "text": [
      "  8%|▊         | 15/200 [00:01<00:10, 17.25it/s]"
     ]
    },
    {
     "name": "stdout",
     "output_type": "stream",
     "text": [
      "Epoch 13/200, Train loss: 333.0287, Val loss: 690.8641, Best Train loss: 333.0287, Best Val loss: 690.8641\n",
      "Epoch 14/200, Train loss: 301.3971, Val loss: 647.4329, Best Train loss: 301.3971, Best Val loss: 647.4329\n",
      "Epoch 15/200, Train loss: 303.6430, Val loss: 607.4566, Best Train loss: 303.6430, Best Val loss: 607.4566\n",
      "Epoch 16/200, Train loss: 263.8494, Val loss: 567.5149, Best Train loss: 263.8494, Best Val loss: 567.5149\n"
     ]
    },
    {
     "name": "stderr",
     "output_type": "stream",
     "text": [
      " 10%|▉         | 19/200 [00:01<00:10, 17.54it/s]"
     ]
    },
    {
     "name": "stdout",
     "output_type": "stream",
     "text": [
      "Epoch 17/200, Train loss: 249.7750, Val loss: 532.0023, Best Train loss: 249.7750, Best Val loss: 532.0023\n",
      "Epoch 18/200, Train loss: 235.2245, Val loss: 497.5771, Best Train loss: 235.2245, Best Val loss: 497.5771\n",
      "Epoch 19/200, Train loss: 244.7917, Val loss: 471.8897, Best Train loss: 244.7917, Best Val loss: 471.8897\n",
      "Epoch 20/200, Train loss: 205.3038, Val loss: 442.1609, Best Train loss: 205.3038, Best Val loss: 442.1609\n"
     ]
    },
    {
     "name": "stderr",
     "output_type": "stream",
     "text": [
      " 12%|█▏        | 23/200 [00:01<00:10, 17.48it/s]"
     ]
    },
    {
     "name": "stdout",
     "output_type": "stream",
     "text": [
      "Epoch 21/200, Train loss: 216.8976, Val loss: 410.7738, Best Train loss: 216.8976, Best Val loss: 410.7738\n",
      "Epoch 22/200, Train loss: 191.1427, Val loss: 385.5905, Best Train loss: 191.1427, Best Val loss: 385.5905\n",
      "Epoch 23/200, Train loss: 172.0020, Val loss: 363.1885, Best Train loss: 172.0020, Best Val loss: 363.1885\n",
      "Epoch 24/200, Train loss: 186.2407, Val loss: 340.5037, Best Train loss: 186.2407, Best Val loss: 340.5037\n"
     ]
    },
    {
     "name": "stderr",
     "output_type": "stream",
     "text": [
      " 14%|█▎        | 27/200 [00:01<00:09, 17.94it/s]"
     ]
    },
    {
     "name": "stdout",
     "output_type": "stream",
     "text": [
      "Epoch 25/200, Train loss: 153.3503, Val loss: 322.7066, Best Train loss: 153.3503, Best Val loss: 322.7066\n",
      "Epoch 26/200, Train loss: 142.8253, Val loss: 299.9305, Best Train loss: 142.8253, Best Val loss: 299.9305\n",
      "Epoch 27/200, Train loss: 133.2401, Val loss: 284.3170, Best Train loss: 133.2401, Best Val loss: 284.3170\n",
      "Epoch 28/200, Train loss: 138.3039, Val loss: 268.0383, Best Train loss: 138.3039, Best Val loss: 268.0383\n"
     ]
    },
    {
     "name": "stderr",
     "output_type": "stream",
     "text": [
      " 16%|█▌        | 31/200 [00:01<00:09, 18.10it/s]"
     ]
    },
    {
     "name": "stdout",
     "output_type": "stream",
     "text": [
      "Epoch 29/200, Train loss: 121.2018, Val loss: 253.0680, Best Train loss: 121.2018, Best Val loss: 253.0680\n",
      "Epoch 30/200, Train loss: 113.0088, Val loss: 238.2003, Best Train loss: 113.0088, Best Val loss: 238.2003\n",
      "Epoch 31/200, Train loss: 117.5515, Val loss: 230.4084, Best Train loss: 117.5515, Best Val loss: 230.4084\n",
      "Epoch 32/200, Train loss: 104.1078, Val loss: 216.9463, Best Train loss: 104.1078, Best Val loss: 216.9463\n"
     ]
    },
    {
     "name": "stderr",
     "output_type": "stream",
     "text": [
      " 18%|█▊        | 35/200 [00:02<00:09, 18.13it/s]"
     ]
    },
    {
     "name": "stdout",
     "output_type": "stream",
     "text": [
      "Epoch 33/200, Train loss: 104.5591, Val loss: 207.8388, Best Train loss: 104.5591, Best Val loss: 207.8388\n",
      "Epoch 34/200, Train loss: 98.6226, Val loss: 200.6843, Best Train loss: 98.6226, Best Val loss: 200.6843\n",
      "Epoch 35/200, Train loss: 95.0241, Val loss: 194.6966, Best Train loss: 95.0241, Best Val loss: 194.6966\n",
      "Epoch 36/200, Train loss: 99.8770, Val loss: 178.3684, Best Train loss: 99.8770, Best Val loss: 178.3684\n"
     ]
    },
    {
     "name": "stderr",
     "output_type": "stream",
     "text": [
      " 20%|█▉        | 39/200 [00:02<00:08, 17.91it/s]"
     ]
    },
    {
     "name": "stdout",
     "output_type": "stream",
     "text": [
      "Epoch 37/200, Train loss: 82.1676, Val loss: 169.3284, Best Train loss: 82.1676, Best Val loss: 169.3284\n",
      "Epoch 38/200, Train loss: 91.0423, Val loss: 161.1203, Best Train loss: 91.0423, Best Val loss: 161.1203\n",
      "Epoch 39/200, Train loss: 74.0841, Val loss: 157.0102, Best Train loss: 74.0841, Best Val loss: 157.0102\n",
      "Epoch 40/200, Train loss: 72.8877, Val loss: 146.4995, Best Train loss: 72.8877, Best Val loss: 146.4995\n"
     ]
    },
    {
     "name": "stderr",
     "output_type": "stream",
     "text": [
      " 22%|██▏       | 43/200 [00:02<00:08, 18.42it/s]"
     ]
    },
    {
     "name": "stdout",
     "output_type": "stream",
     "text": [
      "Epoch 41/200, Train loss: 68.6839, Val loss: 141.8482, Best Train loss: 68.6839, Best Val loss: 141.8482\n",
      "Epoch 42/200, Train loss: 75.8372, Val loss: 186.0999, Best Train loss: 68.6839, Best Val loss: 141.8482\n",
      "Epoch 43/200, Train loss: 90.1009, Val loss: 139.9468, Best Train loss: 90.1009, Best Val loss: 139.9468\n",
      "Epoch 44/200, Train loss: 75.7507, Val loss: 152.2109, Best Train loss: 90.1009, Best Val loss: 139.9468\n",
      "Epoch 45/200, Train loss: 75.8478, Val loss: 153.0270, Best Train loss: 90.1009, Best Val loss: 139.9468\n"
     ]
    },
    {
     "name": "stderr",
     "output_type": "stream",
     "text": [
      " 24%|██▍       | 49/200 [00:02<00:07, 19.57it/s]"
     ]
    },
    {
     "name": "stdout",
     "output_type": "stream",
     "text": [
      "Epoch 46/200, Train loss: 100.3784, Val loss: 147.5858, Best Train loss: 90.1009, Best Val loss: 139.9468\n",
      "Epoch 47/200, Train loss: 86.4248, Val loss: 158.1516, Best Train loss: 90.1009, Best Val loss: 139.9468\n",
      "Epoch 48/200, Train loss: 73.1490, Val loss: 132.0491, Best Train loss: 73.1490, Best Val loss: 132.0491\n",
      "Epoch 49/200, Train loss: 63.3613, Val loss: 123.2842, Best Train loss: 63.3613, Best Val loss: 123.2842\n",
      "Epoch 50/200, Train loss: 67.9274, Val loss: 117.5632, Best Train loss: 67.9274, Best Val loss: 117.5632\n"
     ]
    },
    {
     "name": "stderr",
     "output_type": "stream",
     "text": [
      " 26%|██▋       | 53/200 [00:03<00:07, 18.56it/s]"
     ]
    },
    {
     "name": "stdout",
     "output_type": "stream",
     "text": [
      "Epoch 51/200, Train loss: 57.1980, Val loss: 108.7958, Best Train loss: 57.1980, Best Val loss: 108.7958\n",
      "Epoch 52/200, Train loss: 52.7853, Val loss: 104.2814, Best Train loss: 52.7853, Best Val loss: 104.2814\n",
      "Epoch 53/200, Train loss: 53.5861, Val loss: 102.1788, Best Train loss: 53.5861, Best Val loss: 102.1788\n",
      "Epoch 54/200, Train loss: 48.4798, Val loss: 92.8704, Best Train loss: 48.4798, Best Val loss: 92.8704\n"
     ]
    },
    {
     "name": "stderr",
     "output_type": "stream",
     "text": [
      " 28%|██▊       | 57/200 [00:03<00:07, 17.97it/s]"
     ]
    },
    {
     "name": "stdout",
     "output_type": "stream",
     "text": [
      "Epoch 55/200, Train loss: 45.7338, Val loss: 88.7334, Best Train loss: 45.7338, Best Val loss: 88.7334\n",
      "Epoch 56/200, Train loss: 54.4671, Val loss: 84.5135, Best Train loss: 54.4671, Best Val loss: 84.5135\n",
      "Epoch 57/200, Train loss: 41.4773, Val loss: 77.7949, Best Train loss: 41.4773, Best Val loss: 77.7949\n",
      "Epoch 58/200, Train loss: 41.5090, Val loss: 78.2973, Best Train loss: 41.4773, Best Val loss: 77.7949\n"
     ]
    },
    {
     "name": "stderr",
     "output_type": "stream",
     "text": [
      " 30%|███       | 61/200 [00:03<00:07, 18.31it/s]"
     ]
    },
    {
     "name": "stdout",
     "output_type": "stream",
     "text": [
      "Epoch 59/200, Train loss: 39.6494, Val loss: 69.2830, Best Train loss: 39.6494, Best Val loss: 69.2830\n",
      "Epoch 60/200, Train loss: 44.6676, Val loss: 68.9406, Best Train loss: 44.6676, Best Val loss: 68.9406\n",
      "Epoch 61/200, Train loss: 39.6890, Val loss: 62.5788, Best Train loss: 39.6890, Best Val loss: 62.5788\n",
      "Epoch 62/200, Train loss: 33.8185, Val loss: 68.5522, Best Train loss: 39.6890, Best Val loss: 62.5788\n",
      "Epoch 63/200, Train loss: 32.6645, Val loss: 55.7580, Best Train loss: 32.6645, Best Val loss: 55.7580\n"
     ]
    },
    {
     "name": "stderr",
     "output_type": "stream",
     "text": [
      " 33%|███▎      | 66/200 [00:03<00:07, 18.54it/s]"
     ]
    },
    {
     "name": "stdout",
     "output_type": "stream",
     "text": [
      "Epoch 64/200, Train loss: 35.7535, Val loss: 55.2208, Best Train loss: 35.7535, Best Val loss: 55.2208\n",
      "Epoch 65/200, Train loss: 29.1933, Val loss: 51.1647, Best Train loss: 29.1933, Best Val loss: 51.1647\n",
      "Epoch 66/200, Train loss: 33.7907, Val loss: 48.6732, Best Train loss: 33.7907, Best Val loss: 48.6732\n",
      "Epoch 67/200, Train loss: 31.3993, Val loss: 45.3989, Best Train loss: 31.3993, Best Val loss: 45.3989\n"
     ]
    },
    {
     "name": "stderr",
     "output_type": "stream",
     "text": [
      " 35%|███▌      | 70/200 [00:04<00:07, 18.48it/s]"
     ]
    },
    {
     "name": "stdout",
     "output_type": "stream",
     "text": [
      "Epoch 68/200, Train loss: 25.9353, Val loss: 44.3633, Best Train loss: 25.9353, Best Val loss: 44.3633\n",
      "Epoch 69/200, Train loss: 24.7573, Val loss: 40.5495, Best Train loss: 24.7573, Best Val loss: 40.5495\n",
      "Epoch 70/200, Train loss: 23.7595, Val loss: 40.2401, Best Train loss: 23.7595, Best Val loss: 40.2401\n",
      "Epoch 71/200, Train loss: 22.8122, Val loss: 37.9891, Best Train loss: 22.8122, Best Val loss: 37.9891\n"
     ]
    },
    {
     "name": "stderr",
     "output_type": "stream",
     "text": [
      " 38%|███▊      | 75/200 [00:04<00:06, 19.07it/s]"
     ]
    },
    {
     "name": "stdout",
     "output_type": "stream",
     "text": [
      "Epoch 72/200, Train loss: 21.8926, Val loss: 34.7190, Best Train loss: 21.8926, Best Val loss: 34.7190\n",
      "Epoch 73/200, Train loss: 21.6813, Val loss: 35.9843, Best Train loss: 21.8926, Best Val loss: 34.7190\n",
      "Epoch 74/200, Train loss: 20.8409, Val loss: 32.4222, Best Train loss: 20.8409, Best Val loss: 32.4222\n",
      "Epoch 75/200, Train loss: 22.4347, Val loss: 33.0564, Best Train loss: 20.8409, Best Val loss: 32.4222\n",
      "Epoch 76/200, Train loss: 20.6320, Val loss: 32.4999, Best Train loss: 20.8409, Best Val loss: 32.4222\n"
     ]
    },
    {
     "name": "stderr",
     "output_type": "stream",
     "text": [
      " 39%|███▉      | 78/200 [00:04<00:06, 19.25it/s]"
     ]
    },
    {
     "name": "stdout",
     "output_type": "stream",
     "text": [
      "Epoch 77/200, Train loss: 19.4937, Val loss: 27.9176, Best Train loss: 19.4937, Best Val loss: 27.9176\n",
      "Epoch 78/200, Train loss: 19.0500, Val loss: 26.2483, Best Train loss: 19.0500, Best Val loss: 26.2483\n",
      "Epoch 79/200, Train loss: 18.6154, Val loss: 29.1997, Best Train loss: 19.0500, Best Val loss: 26.2483\n",
      "Epoch 80/200, Train loss: 17.1351, Val loss: 23.7077, Best Train loss: 17.1351, Best Val loss: 23.7077\n"
     ]
    },
    {
     "name": "stderr",
     "output_type": "stream",
     "text": [
      " 42%|████▎     | 85/200 [00:04<00:05, 19.20it/s]"
     ]
    },
    {
     "name": "stdout",
     "output_type": "stream",
     "text": [
      "Epoch 81/200, Train loss: 16.4201, Val loss: 23.4248, Best Train loss: 16.4201, Best Val loss: 23.4248\n",
      "Epoch 82/200, Train loss: 16.4117, Val loss: 21.7424, Best Train loss: 16.4117, Best Val loss: 21.7424\n",
      "Epoch 83/200, Train loss: 18.8766, Val loss: 21.9228, Best Train loss: 16.4117, Best Val loss: 21.7424\n",
      "Epoch 84/200, Train loss: 15.3059, Val loss: 19.7820, Best Train loss: 15.3059, Best Val loss: 19.7820\n",
      "Epoch 85/200, Train loss: 14.7556, Val loss: 19.3817, Best Train loss: 14.7556, Best Val loss: 19.3817\n"
     ]
    },
    {
     "name": "stderr",
     "output_type": "stream",
     "text": [
      " 44%|████▍     | 89/200 [00:05<00:05, 18.74it/s]"
     ]
    },
    {
     "name": "stdout",
     "output_type": "stream",
     "text": [
      "Epoch 86/200, Train loss: 14.3665, Val loss: 18.6874, Best Train loss: 14.3665, Best Val loss: 18.6874\n",
      "Epoch 87/200, Train loss: 13.8584, Val loss: 17.7668, Best Train loss: 13.8584, Best Val loss: 17.7668\n",
      "Epoch 88/200, Train loss: 13.4744, Val loss: 17.5225, Best Train loss: 13.4744, Best Val loss: 17.5225\n",
      "Epoch 89/200, Train loss: 13.3135, Val loss: 16.7315, Best Train loss: 13.3135, Best Val loss: 16.7315\n"
     ]
    },
    {
     "name": "stderr",
     "output_type": "stream",
     "text": [
      " 46%|████▋     | 93/200 [00:05<00:06, 17.60it/s]"
     ]
    },
    {
     "name": "stdout",
     "output_type": "stream",
     "text": [
      "Epoch 90/200, Train loss: 13.0036, Val loss: 15.5959, Best Train loss: 13.0036, Best Val loss: 15.5959\n",
      "Epoch 91/200, Train loss: 12.5620, Val loss: 15.5215, Best Train loss: 12.5620, Best Val loss: 15.5215\n",
      "Epoch 92/200, Train loss: 12.5740, Val loss: 14.7601, Best Train loss: 12.5740, Best Val loss: 14.7601\n",
      "Epoch 93/200, Train loss: 11.9748, Val loss: 14.1785, Best Train loss: 11.9748, Best Val loss: 14.1785\n"
     ]
    },
    {
     "name": "stderr",
     "output_type": "stream",
     "text": [
      " 48%|████▊     | 97/200 [00:05<00:05, 17.88it/s]"
     ]
    },
    {
     "name": "stdout",
     "output_type": "stream",
     "text": [
      "Epoch 94/200, Train loss: 11.8382, Val loss: 14.5015, Best Train loss: 11.9748, Best Val loss: 14.1785\n",
      "Epoch 95/200, Train loss: 14.7087, Val loss: 13.1550, Best Train loss: 14.7087, Best Val loss: 13.1550\n",
      "Epoch 96/200, Train loss: 11.3066, Val loss: 12.5303, Best Train loss: 11.3066, Best Val loss: 12.5303\n",
      "Epoch 97/200, Train loss: 11.1798, Val loss: 12.5186, Best Train loss: 11.1798, Best Val loss: 12.5186\n"
     ]
    },
    {
     "name": "stderr",
     "output_type": "stream",
     "text": [
      " 50%|█████     | 101/200 [00:05<00:05, 18.40it/s]"
     ]
    },
    {
     "name": "stdout",
     "output_type": "stream",
     "text": [
      "Epoch 98/200, Train loss: 10.8184, Val loss: 12.2986, Best Train loss: 10.8184, Best Val loss: 12.2986\n",
      "Epoch 99/200, Train loss: 12.8148, Val loss: 11.1235, Best Train loss: 12.8148, Best Val loss: 11.1235\n",
      "Epoch 100/200, Train loss: 10.4922, Val loss: 12.8031, Best Train loss: 12.8148, Best Val loss: 11.1235\n",
      "Epoch 101/200, Train loss: 10.2031, Val loss: 10.3308, Best Train loss: 10.2031, Best Val loss: 10.3308\n",
      "Epoch 102/200, Train loss: 10.0527, Val loss: 10.4068, Best Train loss: 10.2031, Best Val loss: 10.3308\n"
     ]
    },
    {
     "name": "stderr",
     "output_type": "stream",
     "text": [
      " 54%|█████▎    | 107/200 [00:05<00:04, 18.89it/s]"
     ]
    },
    {
     "name": "stdout",
     "output_type": "stream",
     "text": [
      "Epoch 103/200, Train loss: 9.8091, Val loss: 10.1612, Best Train loss: 9.8091, Best Val loss: 10.1612\n",
      "Epoch 104/200, Train loss: 9.6862, Val loss: 9.9572, Best Train loss: 9.6862, Best Val loss: 9.9572\n",
      "Epoch 105/200, Train loss: 9.5438, Val loss: 9.7024, Best Train loss: 9.5438, Best Val loss: 9.7024\n",
      "Epoch 106/200, Train loss: 9.4027, Val loss: 9.1924, Best Train loss: 9.4027, Best Val loss: 9.1924\n",
      "Epoch 107/200, Train loss: 9.3931, Val loss: 10.0092, Best Train loss: 9.4027, Best Val loss: 9.1924\n"
     ]
    },
    {
     "name": "stderr",
     "output_type": "stream",
     "text": [
      " 56%|█████▌    | 111/200 [00:06<00:04, 19.03it/s]"
     ]
    },
    {
     "name": "stdout",
     "output_type": "stream",
     "text": [
      "Epoch 108/200, Train loss: 9.2304, Val loss: 8.7069, Best Train loss: 9.2304, Best Val loss: 8.7069\n",
      "Epoch 109/200, Train loss: 9.0283, Val loss: 8.5875, Best Train loss: 9.0283, Best Val loss: 8.5875\n",
      "Epoch 110/200, Train loss: 8.8868, Val loss: 8.8932, Best Train loss: 9.0283, Best Val loss: 8.5875\n",
      "Epoch 111/200, Train loss: 8.7688, Val loss: 8.5496, Best Train loss: 8.7688, Best Val loss: 8.5496\n",
      "Epoch 112/200, Train loss: 8.7301, Val loss: 7.7010, Best Train loss: 8.7301, Best Val loss: 7.7010\n"
     ]
    },
    {
     "name": "stderr",
     "output_type": "stream",
     "text": [
      " 58%|█████▊    | 117/200 [00:06<00:04, 19.52it/s]"
     ]
    },
    {
     "name": "stdout",
     "output_type": "stream",
     "text": [
      "Epoch 113/200, Train loss: 8.9222, Val loss: 8.9182, Best Train loss: 8.7301, Best Val loss: 7.7010\n",
      "Epoch 114/200, Train loss: 8.7745, Val loss: 7.5627, Best Train loss: 8.7745, Best Val loss: 7.5627\n",
      "Epoch 115/200, Train loss: 8.5237, Val loss: 7.7911, Best Train loss: 8.7745, Best Val loss: 7.5627\n",
      "Epoch 116/200, Train loss: 8.3023, Val loss: 7.8881, Best Train loss: 8.7745, Best Val loss: 7.5627\n",
      "Epoch 117/200, Train loss: 8.1849, Val loss: 7.3295, Best Train loss: 8.1849, Best Val loss: 7.3295\n"
     ]
    },
    {
     "name": "stderr",
     "output_type": "stream",
     "text": [
      " 60%|██████    | 121/200 [00:06<00:04, 18.79it/s]"
     ]
    },
    {
     "name": "stdout",
     "output_type": "stream",
     "text": [
      "Epoch 118/200, Train loss: 8.0368, Val loss: 7.4077, Best Train loss: 8.1849, Best Val loss: 7.3295\n",
      "Epoch 119/200, Train loss: 7.9390, Val loss: 7.1303, Best Train loss: 7.9390, Best Val loss: 7.1303\n",
      "Epoch 120/200, Train loss: 7.8554, Val loss: 6.8051, Best Train loss: 7.8554, Best Val loss: 6.8051\n",
      "Epoch 121/200, Train loss: 7.8358, Val loss: 7.2297, Best Train loss: 7.8554, Best Val loss: 6.8051\n"
     ]
    },
    {
     "name": "stderr",
     "output_type": "stream",
     "text": [
      " 62%|██████▎   | 125/200 [00:06<00:03, 19.06it/s]"
     ]
    },
    {
     "name": "stdout",
     "output_type": "stream",
     "text": [
      "Epoch 122/200, Train loss: 7.8544, Val loss: 6.7532, Best Train loss: 7.8544, Best Val loss: 6.7532\n",
      "Epoch 123/200, Train loss: 7.6845, Val loss: 6.9266, Best Train loss: 7.8544, Best Val loss: 6.7532\n",
      "Epoch 124/200, Train loss: 9.1617, Val loss: 6.2934, Best Train loss: 9.1617, Best Val loss: 6.2934\n",
      "Epoch 125/200, Train loss: 9.1479, Val loss: 6.5534, Best Train loss: 9.1617, Best Val loss: 6.2934\n",
      "Epoch 126/200, Train loss: 7.5176, Val loss: 6.4008, Best Train loss: 9.1617, Best Val loss: 6.2934\n"
     ]
    },
    {
     "name": "stderr",
     "output_type": "stream",
     "text": [
      " 65%|██████▌   | 130/200 [00:07<00:03, 19.29it/s]"
     ]
    },
    {
     "name": "stdout",
     "output_type": "stream",
     "text": [
      "Epoch 127/200, Train loss: 9.4999, Val loss: 6.1894, Best Train loss: 9.4999, Best Val loss: 6.1894\n",
      "Epoch 128/200, Train loss: 9.4034, Val loss: 5.7008, Best Train loss: 9.4034, Best Val loss: 5.7008\n",
      "Epoch 129/200, Train loss: 7.3864, Val loss: 5.6774, Best Train loss: 7.3864, Best Val loss: 5.6774\n",
      "Epoch 130/200, Train loss: 8.2928, Val loss: 5.8031, Best Train loss: 7.3864, Best Val loss: 5.6774\n",
      "Epoch 131/200, Train loss: 10.2556, Val loss: 6.5137, Best Train loss: 7.3864, Best Val loss: 5.6774\n"
     ]
    },
    {
     "name": "stderr",
     "output_type": "stream",
     "text": [
      " 68%|██████▊   | 136/200 [00:07<00:03, 20.47it/s]"
     ]
    },
    {
     "name": "stdout",
     "output_type": "stream",
     "text": [
      "Epoch 132/200, Train loss: 7.3499, Val loss: 5.8559, Best Train loss: 7.3864, Best Val loss: 5.6774\n",
      "Epoch 133/200, Train loss: 7.2288, Val loss: 5.5823, Best Train loss: 7.2288, Best Val loss: 5.5823\n",
      "Epoch 134/200, Train loss: 7.0947, Val loss: 5.8340, Best Train loss: 7.2288, Best Val loss: 5.5823\n",
      "Epoch 135/200, Train loss: 8.4464, Val loss: 5.9016, Best Train loss: 7.2288, Best Val loss: 5.5823\n",
      "Epoch 136/200, Train loss: 8.3888, Val loss: 5.7121, Best Train loss: 7.2288, Best Val loss: 5.5823\n"
     ]
    },
    {
     "name": "stderr",
     "output_type": "stream",
     "text": [
      " 70%|██████▉   | 139/200 [00:07<00:03, 19.85it/s]"
     ]
    },
    {
     "name": "stdout",
     "output_type": "stream",
     "text": [
      "Epoch 137/200, Train loss: 9.0006, Val loss: 5.5130, Best Train loss: 9.0006, Best Val loss: 5.5130\n",
      "Epoch 138/200, Train loss: 6.9167, Val loss: 5.8310, Best Train loss: 9.0006, Best Val loss: 5.5130\n",
      "Epoch 139/200, Train loss: 6.8927, Val loss: 5.4217, Best Train loss: 6.8927, Best Val loss: 5.4217\n",
      "Epoch 140/200, Train loss: 6.8800, Val loss: 5.6184, Best Train loss: 6.8927, Best Val loss: 5.4217\n",
      "Epoch 141/200, Train loss: 8.7653, Val loss: 5.8643, Best Train loss: 6.8927, Best Val loss: 5.4217\n"
     ]
    },
    {
     "name": "stderr",
     "output_type": "stream",
     "text": [
      " 72%|███████▎  | 145/200 [00:07<00:02, 19.87it/s]"
     ]
    },
    {
     "name": "stdout",
     "output_type": "stream",
     "text": [
      "Epoch 142/200, Train loss: 6.8294, Val loss: 5.3468, Best Train loss: 6.8294, Best Val loss: 5.3468\n",
      "Epoch 143/200, Train loss: 6.7801, Val loss: 5.6352, Best Train loss: 6.8294, Best Val loss: 5.3468\n",
      "Epoch 144/200, Train loss: 6.7765, Val loss: 5.5584, Best Train loss: 6.8294, Best Val loss: 5.3468\n",
      "Epoch 145/200, Train loss: 8.5733, Val loss: 5.2047, Best Train loss: 8.5733, Best Val loss: 5.2047\n",
      "Epoch 146/200, Train loss: 6.7198, Val loss: 5.3659, Best Train loss: 8.5733, Best Val loss: 5.2047\n"
     ]
    },
    {
     "name": "stderr",
     "output_type": "stream",
     "text": [
      " 76%|███████▌  | 151/200 [00:08<00:02, 20.91it/s]"
     ]
    },
    {
     "name": "stdout",
     "output_type": "stream",
     "text": [
      "Epoch 147/200, Train loss: 6.6871, Val loss: 5.2906, Best Train loss: 8.5733, Best Val loss: 5.2047\n",
      "Epoch 148/200, Train loss: 6.6489, Val loss: 5.7582, Best Train loss: 8.5733, Best Val loss: 5.2047\n",
      "Epoch 149/200, Train loss: 6.6489, Val loss: 5.2423, Best Train loss: 8.5733, Best Val loss: 5.2047\n",
      "Epoch 150/200, Train loss: 6.6530, Val loss: 5.3151, Best Train loss: 8.5733, Best Val loss: 5.2047\n",
      "Epoch 151/200, Train loss: 6.6032, Val loss: 5.2150, Best Train loss: 8.5733, Best Val loss: 5.2047\n"
     ]
    },
    {
     "name": "stderr",
     "output_type": "stream",
     "text": [
      " 77%|███████▋  | 154/200 [00:08<00:02, 20.45it/s]"
     ]
    },
    {
     "name": "stdout",
     "output_type": "stream",
     "text": [
      "Epoch 152/200, Train loss: 6.5807, Val loss: 5.2965, Best Train loss: 8.5733, Best Val loss: 5.2047\n",
      "Epoch 153/200, Train loss: 6.5610, Val loss: 5.1378, Best Train loss: 6.5610, Best Val loss: 5.1378\n",
      "Epoch 154/200, Train loss: 6.5327, Val loss: 5.3313, Best Train loss: 6.5610, Best Val loss: 5.1378\n",
      "Epoch 155/200, Train loss: 8.3266, Val loss: 5.1847, Best Train loss: 6.5610, Best Val loss: 5.1378\n"
     ]
    },
    {
     "name": "stderr",
     "output_type": "stream",
     "text": [
      " 78%|███████▊  | 157/200 [00:08<00:02, 20.35it/s]"
     ]
    },
    {
     "name": "stdout",
     "output_type": "stream",
     "text": [
      "Epoch 156/200, Train loss: 6.5004, Val loss: 5.0873, Best Train loss: 6.5004, Best Val loss: 5.0873\n",
      "Epoch 157/200, Train loss: 6.4853, Val loss: 5.1093, Best Train loss: 6.5004, Best Val loss: 5.0873\n",
      "Epoch 158/200, Train loss: 6.4318, Val loss: 4.9607, Best Train loss: 6.4318, Best Val loss: 4.9607\n",
      "Epoch 159/200, Train loss: 7.6425, Val loss: 4.9454, Best Train loss: 7.6425, Best Val loss: 4.9454\n"
     ]
    },
    {
     "name": "stderr",
     "output_type": "stream",
     "text": [
      " 82%|████████▏ | 163/200 [00:08<00:01, 19.85it/s]"
     ]
    },
    {
     "name": "stdout",
     "output_type": "stream",
     "text": [
      "Epoch 160/200, Train loss: 6.4773, Val loss: 4.6098, Best Train loss: 6.4773, Best Val loss: 4.6098\n",
      "Epoch 161/200, Train loss: 6.4300, Val loss: 5.1157, Best Train loss: 6.4773, Best Val loss: 4.6098\n",
      "Epoch 162/200, Train loss: 6.3406, Val loss: 4.7585, Best Train loss: 6.4773, Best Val loss: 4.6098\n",
      "Epoch 163/200, Train loss: 6.3044, Val loss: 4.5062, Best Train loss: 6.3044, Best Val loss: 4.5062\n"
     ]
    },
    {
     "name": "stderr",
     "output_type": "stream",
     "text": [
      " 84%|████████▎ | 167/200 [00:09<00:01, 19.13it/s]"
     ]
    },
    {
     "name": "stdout",
     "output_type": "stream",
     "text": [
      "Epoch 164/200, Train loss: 6.2585, Val loss: 4.4098, Best Train loss: 6.2585, Best Val loss: 4.4098\n",
      "Epoch 165/200, Train loss: 6.5974, Val loss: 4.2657, Best Train loss: 6.5974, Best Val loss: 4.2657\n",
      "Epoch 166/200, Train loss: 6.0437, Val loss: 4.0463, Best Train loss: 6.0437, Best Val loss: 4.0463\n",
      "Epoch 167/200, Train loss: 6.2171, Val loss: 4.1055, Best Train loss: 6.0437, Best Val loss: 4.0463\n"
     ]
    },
    {
     "name": "stderr",
     "output_type": "stream",
     "text": [
      " 86%|████████▌ | 171/200 [00:09<00:01, 19.44it/s]"
     ]
    },
    {
     "name": "stdout",
     "output_type": "stream",
     "text": [
      "Epoch 168/200, Train loss: 6.1554, Val loss: 4.3313, Best Train loss: 6.0437, Best Val loss: 4.0463\n",
      "Epoch 169/200, Train loss: 6.0752, Val loss: 3.9644, Best Train loss: 6.0752, Best Val loss: 3.9644\n",
      "Epoch 170/200, Train loss: 6.1700, Val loss: 3.9031, Best Train loss: 6.1700, Best Val loss: 3.9031\n",
      "Epoch 171/200, Train loss: 5.9990, Val loss: 4.0628, Best Train loss: 6.1700, Best Val loss: 3.9031\n",
      "Epoch 172/200, Train loss: 5.9819, Val loss: 3.9853, Best Train loss: 6.1700, Best Val loss: 3.9031\n"
     ]
    },
    {
     "name": "stderr",
     "output_type": "stream",
     "text": [
      " 88%|████████▊ | 177/200 [00:09<00:01, 20.40it/s]"
     ]
    },
    {
     "name": "stdout",
     "output_type": "stream",
     "text": [
      "Epoch 173/200, Train loss: 5.9460, Val loss: 3.9190, Best Train loss: 6.1700, Best Val loss: 3.9031\n",
      "Epoch 174/200, Train loss: 5.9789, Val loss: 3.8567, Best Train loss: 5.9789, Best Val loss: 3.8567\n",
      "Epoch 175/200, Train loss: 5.9338, Val loss: 3.9276, Best Train loss: 5.9789, Best Val loss: 3.8567\n",
      "Epoch 176/200, Train loss: 5.9292, Val loss: 3.9349, Best Train loss: 5.9789, Best Val loss: 3.8567\n",
      "Epoch 177/200, Train loss: 5.9577, Val loss: 3.9047, Best Train loss: 5.9789, Best Val loss: 3.8567\n"
     ]
    },
    {
     "name": "stderr",
     "output_type": "stream",
     "text": [
      " 90%|█████████ | 180/200 [00:09<00:01, 19.89it/s]"
     ]
    },
    {
     "name": "stdout",
     "output_type": "stream",
     "text": [
      "Epoch 178/200, Train loss: 5.9167, Val loss: 3.8062, Best Train loss: 5.9167, Best Val loss: 3.8062\n",
      "Epoch 179/200, Train loss: 5.8925, Val loss: 3.8677, Best Train loss: 5.9167, Best Val loss: 3.8062\n",
      "Epoch 180/200, Train loss: 5.8771, Val loss: 3.8434, Best Train loss: 5.9167, Best Val loss: 3.8062\n",
      "Epoch 181/200, Train loss: 7.6589, Val loss: 3.8451, Best Train loss: 5.9167, Best Val loss: 3.8062\n",
      "Epoch 182/200, Train loss: 5.9048, Val loss: 3.8234, Best Train loss: 5.9167, Best Val loss: 3.8062\n"
     ]
    },
    {
     "name": "stderr",
     "output_type": "stream",
     "text": [
      " 93%|█████████▎| 186/200 [00:09<00:00, 20.85it/s]"
     ]
    },
    {
     "name": "stdout",
     "output_type": "stream",
     "text": [
      "Epoch 183/200, Train loss: 5.8534, Val loss: 3.8353, Best Train loss: 5.9167, Best Val loss: 3.8062\n",
      "Epoch 184/200, Train loss: 5.8120, Val loss: 3.8645, Best Train loss: 5.9167, Best Val loss: 3.8062\n",
      "Epoch 185/200, Train loss: 5.8378, Val loss: 3.8877, Best Train loss: 5.9167, Best Val loss: 3.8062\n",
      "Epoch 186/200, Train loss: 5.8476, Val loss: 3.8346, Best Train loss: 5.9167, Best Val loss: 3.8062\n",
      "Epoch 187/200, Train loss: 5.7956, Val loss: 3.8118, Best Train loss: 5.9167, Best Val loss: 3.8062\n"
     ]
    },
    {
     "name": "stderr",
     "output_type": "stream",
     "text": [
      " 96%|█████████▌| 192/200 [00:10<00:00, 20.70it/s]"
     ]
    },
    {
     "name": "stdout",
     "output_type": "stream",
     "text": [
      "Epoch 188/200, Train loss: 5.7977, Val loss: 3.7759, Best Train loss: 5.7977, Best Val loss: 3.7759\n",
      "Epoch 189/200, Train loss: 5.7807, Val loss: 3.7801, Best Train loss: 5.7977, Best Val loss: 3.7759\n",
      "Epoch 190/200, Train loss: 5.7965, Val loss: 3.7896, Best Train loss: 5.7977, Best Val loss: 3.7759\n",
      "Epoch 191/200, Train loss: 5.7736, Val loss: 3.7767, Best Train loss: 5.7977, Best Val loss: 3.7759\n",
      "Epoch 192/200, Train loss: 5.7764, Val loss: 3.7666, Best Train loss: 5.7764, Best Val loss: 3.7666\n"
     ]
    },
    {
     "name": "stderr",
     "output_type": "stream",
     "text": [
      " 98%|█████████▊| 195/200 [00:10<00:00, 20.46it/s]"
     ]
    },
    {
     "name": "stdout",
     "output_type": "stream",
     "text": [
      "Epoch 193/200, Train loss: 5.7630, Val loss: 3.7738, Best Train loss: 5.7764, Best Val loss: 3.7666\n",
      "Epoch 194/200, Train loss: 5.7663, Val loss: 3.7707, Best Train loss: 5.7764, Best Val loss: 3.7666\n",
      "Epoch 195/200, Train loss: 5.7622, Val loss: 3.7700, Best Train loss: 5.7764, Best Val loss: 3.7666\n",
      "Epoch 196/200, Train loss: 5.7615, Val loss: 3.7746, Best Train loss: 5.7764, Best Val loss: 3.7666\n",
      "Epoch 197/200, Train loss: 7.4500, Val loss: 3.7717, Best Train loss: 5.7764, Best Val loss: 3.7666\n"
     ]
    },
    {
     "name": "stderr",
     "output_type": "stream",
     "text": [
      "100%|██████████| 200/200 [00:10<00:00, 18.79it/s]"
     ]
    },
    {
     "name": "stdout",
     "output_type": "stream",
     "text": [
      "Epoch 198/200, Train loss: 6.9113, Val loss: 3.7715, Best Train loss: 5.7764, Best Val loss: 3.7666\n",
      "Epoch 199/200, Train loss: 7.4472, Val loss: 3.7710, Best Train loss: 5.7764, Best Val loss: 3.7666\n",
      "Epoch 200/200, Train loss: 5.7830, Val loss: 3.7711, Best Train loss: 5.7764, Best Val loss: 3.7666\n"
     ]
    },
    {
     "name": "stderr",
     "output_type": "stream",
     "text": [
      "\n"
     ]
    }
   ],
   "source": [
    "import torch.optim as optim\n",
    "from torch.optim.lr_scheduler import CosineAnnealingLR\n",
    "from tqdm.auto import tqdm\n",
    "\n",
    "train_losses = []\n",
    "val_losses = []\n",
    "\n",
    "epochs = 200\n",
    "\n",
    "model = LSTMModel(input_dim=4, hidden_dim=500, num_layers=2, output_dim=1).cuda()\n",
    "print(model)\n",
    "\n",
    "best_val_loss = float('inf')\n",
    "best_train_loss = float('inf')\n",
    "\n",
    "criterion = nn.MSELoss()\n",
    "optimizer = optim.Adam(model.parameters(), lr=1e-3)\n",
    "lr_scheduler = CosineAnnealingLR(optimizer, T_max=epochs, eta_min=0)\n",
    "\n",
    "for epoch in tqdm(range(epochs)):\n",
    "    # Training\n",
    "    model.train()\n",
    "    total_loss = 0.0\n",
    "\n",
    "    for features, labels in train_loader:\n",
    "        features = features.cuda()\n",
    "        labels = labels.cuda()\n",
    "        outputs = model(features).squeeze(-1)\n",
    "        loss = criterion(outputs, labels)\n",
    "        total_loss += loss.item()\n",
    "\n",
    "        optimizer.zero_grad()\n",
    "        loss.backward()\n",
    "        optimizer.step()\n",
    "\n",
    "    # Learning rate update\n",
    "    lr_scheduler.step()\n",
    "\n",
    "    avg_train_loss = total_loss / len(train_loader)\n",
    "\n",
    "    # Validation\n",
    "    model.eval()\n",
    "    total_val_loss = 0.0\n",
    "\n",
    "    with torch.no_grad():\n",
    "        for features, labels in val_loader:\n",
    "            features = features.cuda()\n",
    "            labels = labels.cuda()\n",
    "            outputs = model(features).squeeze(-1)\n",
    "            loss = criterion(outputs, labels)\n",
    "            total_val_loss += loss.item()\n",
    "\n",
    "    avg_val_loss = total_val_loss / len(val_loader)\n",
    "\n",
    "    # Checkpoint\n",
    "    if avg_val_loss < best_val_loss:\n",
    "        best_val_loss = avg_val_loss\n",
    "        best_train_loss = avg_train_loss\n",
    "        torch.save(model.state_dict(), 'best_model.pth')\n",
    "\n",
    "    print(f'Epoch {epoch+1}/{epochs}, Train loss: {avg_train_loss:.4f}, Val loss: {avg_val_loss:.4f}, Best Train loss: {best_train_loss:.4f}, Best Val loss: {best_val_loss:.4f}')\n",
    "\n",
    "    # Store performance\n",
    "    train_losses.append(avg_train_loss)\n",
    "    val_losses.append(avg_val_loss)"
   ]
  },
  {
   "cell_type": "markdown",
   "id": "a7984c6e-6652-4160-b572-07d48bc93a3f",
   "metadata": {
    "id": "a7984c6e-6652-4160-b572-07d48bc93a3f"
   },
   "source": [
    "#### Visualizing the model performance"
   ]
  },
  {
   "cell_type": "code",
   "execution_count": 776,
   "id": "5559d850-1fb5-4b04-b6ca-60c5b309f34e",
   "metadata": {
    "id": "5559d850-1fb5-4b04-b6ca-60c5b309f34e"
   },
   "outputs": [
    {
     "data": {
      "image/png": "[encoded data removed]",
      "text/plain": [
       "<Figure size 1000x500 with 1 Axes>"
      ]
     },
     "metadata": {},
     "output_type": "display_data"
    }
   ],
   "source": [
    "import matplotlib.pyplot as plt\n",
    "\n",
    "plt.figure(figsize=(10, 5))\n",
    "plt.plot(train_losses)\n",
    "plt.plot(val_losses)\n",
    "plt.xlabel('Epochs')\n",
    "plt.ylabel('Loss')\n",
    "plt.legend(['Train', 'Val'])\n",
    "\n",
    "plt.show()"
   ]
  },
  {
   "cell_type": "markdown",
   "id": "89c7e51b-8ab6-4aa2-877d-39b6daf55c20",
   "metadata": {
    "id": "89c7e51b-8ab6-4aa2-877d-39b6daf55c20"
   },
   "source": [
    "## D. Evaluating Your Trained Model"
   ]
  },
  {
   "cell_type": "code",
   "execution_count": 777,
   "id": "4bcf8580-42ee-4ee7-ad15-9f080cc57a33",
   "metadata": {
    "id": "4bcf8580-42ee-4ee7-ad15-9f080cc57a33"
   },
   "outputs": [
    {
     "name": "stdout",
     "output_type": "stream",
     "text": [
      "Test MSE: 1.5441\n"
     ]
    }
   ],
   "source": [
    "# Load the trained weights\n",
    "model.load_state_dict(torch.load('best_model.pth'))\n",
    "\n",
    "# Set the model to evaluation mode\n",
    "model.eval()\n",
    "\n",
    "test_correct = 0\n",
    "test_total = 0\n",
    "\n",
    "pred_value = []\n",
    "actual_value = []\n",
    "\n",
    "with torch.no_grad():\n",
    "    for features, labels in test_loader:\n",
    "        features = features.cuda()\n",
    "        outputs = model(features).squeeze(-1)\n",
    "        pred_value.append(outputs.cpu())\n",
    "        actual_value.append(labels)\n",
    "\n",
    "pred_value = torch.cat(pred_value)\n",
    "actual_value = torch.cat(actual_value)\n",
    "print(\"Test MSE: {:.4f}\".format(torch.mean(torch.abs(pred_value - actual_value)).item()))"
   ]
  },
  {
   "cell_type": "code",
   "execution_count": 778,
   "id": "dde4e0a5-32be-4db3-95fb-4fad8926ce9b",
   "metadata": {
    "id": "dde4e0a5-32be-4db3-95fb-4fad8926ce9b"
   },
   "outputs": [
    {
     "data": {
      "image/png": "[encoded data removed]",
      "text/plain": [
       "<Figure size 1000x500 with 1 Axes>"
      ]
     },
     "metadata": {},
     "output_type": "display_data"
    }
   ],
   "source": [
    "plt.figure(figsize=(10, 5))\n",
    "plt.plot(pred_value[:], marker='o')\n",
    "plt.plot(actual_value[:], marker='o')\n",
    "plt.xlabel('Day')\n",
    "plt.ylabel('Price')\n",
    "plt.legend(['Pred', 'Actual'])\n",
    "\n",
    "plt.show()"
   ]
  },
  {
   "cell_type": "code",
   "execution_count": null,
   "id": "LNOafPmRZUrE",
   "metadata": {
    "id": "LNOafPmRZUrE"
   },
   "outputs": [],
   "source": []
  }
 ],
 "metadata": {
  "accelerator": "GPU",
  "colab": {
   "gpuType": "T4",
   "provenance": [],
   "toc_visible": true
  },
  "kernelspec": {
   "display_name": "Yichenng",
   "language": "python",
   "name": "python3"
  },
  "language_info": {
   "codemirror_mode": {
    "name": "ipython",
    "version": 3
   },
   "file_extension": ".py",
   "mimetype": "text/x-python",
   "name": "python",
   "nbconvert_exporter": "python",
   "pygments_lexer": "ipython3",
   "version": "3.10.16"
  }
 },
 "nbformat": 4,
 "nbformat_minor": 5
}

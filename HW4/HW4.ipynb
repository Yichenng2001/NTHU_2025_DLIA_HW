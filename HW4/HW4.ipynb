{
 "cells": [
  {
   "cell_type": "markdown",
   "id": "609dcb62-c2f8-4c6d-9c89-63dc0148a87c",
   "metadata": {
    "id": "609dcb62-c2f8-4c6d-9c89-63dc0148a87c"
   },
   "source": [
    "<div align=\"center\">\n",
    "\n",
    "### Lab 4\n",
    "\n",
    "# National Tsing Hua University\n",
    "\n",
    "#### Spring 2025\n",
    "\n",
    "#### 11320IEEM 513600\n",
    "\n",
    "#### Deep Learning and Industrial Applications\n",
    "    \n",
    "## Lab 4: Predicting Stock Price with Deep Learning\n",
    "\n",
    "</div>"
   ]
  },
  {
   "cell_type": "markdown",
   "id": "061c22d2-eec4-40f4-866b-ccaa2d9a2963",
   "metadata": {
    "id": "061c22d2-eec4-40f4-866b-ccaa2d9a2963",
    "jp-MarkdownHeadingCollapsed": true,
    "tags": []
   },
   "source": [
    "### Introduction\n",
    "\n",
    "In this lab, we explore the application of time-series datasets using Long Short-Term Memory (LSTM) networks, a type of recurrent neural network, to predict stock prices. Specifically, we will use historical price data from Nvidia to forecast the stock's price for the next day based on the prices of the previous N days. This approach is particularly relevant given the volatile nature of stock markets and the increasing reliance on automated trading systems.\n",
    "\n",
    "### Objectives\n",
    "\n",
    "- To understand the fundamentals of LSTM networks and their application in time-series forecasting.\n",
    "- To develop a predictive model that can accurately forecast Nvidia's stock price for the next day using historical data.\n",
    "\n",
    "### Dataset\n",
    "\n",
    "The dataset for this lab is from the \"Huge Stock Market Dataset\" available on Kaggle. This dataset includes daily prices and volumes for all US stocks and ETFs, with a specific focus on Nvidia (NVDA). The dataset features include:\n",
    "\n",
    "- **Date**: The recorded data points.\n",
    "- **Open**: The price at which the stock first traded upon the opening of an exchange on a given trading day.\n",
    "- **High**: The highest price at which the stock traded during the trading day.\n",
    "- **Low**: The lowest price at which the stock traded during the trading day.\n",
    "- **Close**: The price of the stock at closing time.\n",
    "- **Volume**: The number of shares or contracts traded in a security or an entire market during a given period.\n",
    "- **OpenInt**: The total number of outstanding derivative contracts, like options or futures. [More details here](https://www.kaggle.com/datasets/borismarjanovic/price-volume-data-for-all-us-stocks-etfs/discussion/121096)\n",
    "\n",
    "### References\n",
    "\n",
    "- [Huge Stock Market Dataset](https://www.kaggle.com/datasets/borismarjanovic/price-volume-data-for-all-us-stocks-etfs) for the dataset used in this lab.\n"
   ]
  },
  {
   "cell_type": "markdown",
   "id": "ad594fc8-4989-40f3-b124-4550fe7df386",
   "metadata": {
    "id": "ad594fc8-4989-40f3-b124-4550fe7df386"
   },
   "source": [
    "## A. Checking and Preprocessing"
   ]
  },
  {
   "cell_type": "code",
   "execution_count": 373,
   "id": "42a3eafd-cbcd-4c56-82cb-83a0bfa2399e",
   "metadata": {
    "colab": {
     "base_uri": "https://localhost:8080/",
     "height": 424
    },
    "executionInfo": {
     "elapsed": 2113,
     "status": "ok",
     "timestamp": 1744823379713,
     "user": {
      "displayName": "林明聰",
      "userId": "10350944269371174646"
     },
     "user_tz": -480
    },
    "id": "42a3eafd-cbcd-4c56-82cb-83a0bfa2399e",
    "outputId": "04904277-f9b5-45ab-9daa-9d0fade46bce"
   },
   "outputs": [
    {
     "data": {
      "application/vnd.microsoft.datawrangler.viewer.v0+json": {
       "columns": [
        {
         "name": "index",
         "rawType": "int64",
         "type": "integer"
        },
        {
         "name": "Date",
         "rawType": "object",
         "type": "string"
        },
        {
         "name": "Open",
         "rawType": "float64",
         "type": "float"
        },
        {
         "name": "High",
         "rawType": "float64",
         "type": "float"
        },
        {
         "name": "Low",
         "rawType": "float64",
         "type": "float"
        },
        {
         "name": "Close",
         "rawType": "float64",
         "type": "float"
        },
        {
         "name": "Volume",
         "rawType": "int64",
         "type": "integer"
        },
        {
         "name": "OpenInt",
         "rawType": "int64",
         "type": "integer"
        }
       ],
       "conversionMethod": "pd.DataFrame",
       "ref": "abf522ec-ad78-4b5c-bdb5-37e591d18d1b",
       "rows": [
        [
         "0",
         "1999-01-22",
         "1.6238",
         "1.8092",
         "1.4379",
         "1.5215",
         "18297633",
         "0"
        ],
        [
         "1",
         "1999-01-25",
         "1.6423",
         "1.698",
         "1.5215",
         "1.6793",
         "3445279",
         "0"
        ],
        [
         "2",
         "1999-01-26",
         "1.698",
         "1.735",
         "1.5311",
         "1.5494",
         "2320993",
         "0"
        ],
        [
         "3",
         "1999-01-27",
         "1.5586",
         "1.5957",
         "1.466",
         "1.5494",
         "1662658",
         "0"
        ],
        [
         "4",
         "1999-01-28",
         "1.5494",
         "1.5586",
         "1.5311",
         "1.5401",
         "1540110",
         "0"
        ],
        [
         "5",
         "1999-01-29",
         "1.5401",
         "1.5494",
         "1.466",
         "1.466",
         "1659098",
         "0"
        ],
        [
         "6",
         "1999-02-01",
         "1.466",
         "1.5124",
         "1.466",
         "1.4938",
         "1046355",
         "0"
        ],
        [
         "7",
         "1999-02-02",
         "1.466",
         "1.5124",
         "1.336",
         "1.3824",
         "1779388",
         "0"
        ],
        [
         "8",
         "1999-02-03",
         "1.3642",
         "1.429",
         "1.3546",
         "1.4104",
         "518004",
         "0"
        ],
        [
         "9",
         "1999-02-04",
         "1.429",
         "1.5311",
         "1.4104",
         "1.4843",
         "1241980",
         "0"
        ],
        [
         "10",
         "1999-02-05",
         "1.5124",
         "1.5494",
         "1.4752",
         "1.5311",
         "931244",
         "0"
        ],
        [
         "11",
         "1999-02-08",
         "1.5401",
         "1.5494",
         "1.4752",
         "1.4752",
         "1039890",
         "0"
        ],
        [
         "12",
         "1999-02-09",
         "1.5124",
         "1.5215",
         "1.4009",
         "1.4196",
         "588170",
         "0"
        ],
        [
         "13",
         "1999-02-10",
         "1.4196",
         "1.4566",
         "1.3824",
         "1.4104",
         "1014343",
         "0"
        ],
        [
         "14",
         "1999-02-11",
         "1.4104",
         "1.5864",
         "1.4104",
         "1.5311",
         "900846",
         "0"
        ],
        [
         "15",
         "1999-02-12",
         "1.5494",
         "1.6238",
         "1.5494",
         "1.6145",
         "754695",
         "0"
        ],
        [
         "16",
         "1999-02-16",
         "1.6423",
         "1.707",
         "1.4566",
         "1.6238",
         "1438900",
         "0"
        ],
        [
         "17",
         "1999-02-17",
         "1.5864",
         "1.6052",
         "1.5124",
         "1.5401",
         "458186",
         "0"
        ],
        [
         "18",
         "1999-02-18",
         "1.5864",
         "1.6052",
         "1.5215",
         "1.5586",
         "489549",
         "0"
        ],
        [
         "19",
         "1999-02-19",
         "1.5494",
         "1.6423",
         "1.5311",
         "1.6145",
         "520268",
         "0"
        ],
        [
         "20",
         "1999-02-22",
         "1.6423",
         "1.6607",
         "1.5401",
         "1.6238",
         "1396542",
         "0"
        ],
        [
         "21",
         "1999-02-23",
         "1.6607",
         "1.735",
         "1.5679",
         "1.698",
         "944178",
         "0"
        ],
        [
         "22",
         "1999-02-24",
         "1.9482",
         "2.0318",
         "1.7905",
         "1.837",
         "4139829",
         "0"
        ],
        [
         "23",
         "1999-02-25",
         "1.9114",
         "1.9761",
         "1.7539",
         "1.7812",
         "1005937",
         "0"
        ],
        [
         "24",
         "1999-02-26",
         "1.7999",
         "1.8557",
         "1.6793",
         "1.698",
         "1180222",
         "0"
        ],
        [
         "25",
         "1999-03-01",
         "1.735",
         "1.7812",
         "1.6238",
         "1.707",
         "624384",
         "0"
        ],
        [
         "26",
         "1999-03-02",
         "1.698",
         "1.707",
         "1.6607",
         "1.6886",
         "381552",
         "0"
        ],
        [
         "27",
         "1999-03-03",
         "1.698",
         "1.698",
         "1.5679",
         "1.5772",
         "427792",
         "0"
        ],
        [
         "28",
         "1999-03-04",
         "1.6513",
         "1.6607",
         "1.5311",
         "1.5401",
         "403539",
         "0"
        ],
        [
         "29",
         "1999-03-05",
         "1.5586",
         "1.6329",
         "1.5586",
         "1.6238",
         "538052",
         "0"
        ],
        [
         "30",
         "1999-03-08",
         "1.5864",
         "1.698",
         "1.5586",
         "1.6513",
         "526088",
         "0"
        ],
        [
         "31",
         "1999-03-09",
         "1.6513",
         "1.7258",
         "1.6513",
         "1.707",
         "979747",
         "0"
        ],
        [
         "32",
         "1999-03-10",
         "1.7258",
         "1.7258",
         "1.6513",
         "1.6793",
         "1586024",
         "0"
        ],
        [
         "33",
         "1999-03-11",
         "1.6513",
         "1.6793",
         "1.6052",
         "1.6052",
         "371203",
         "0"
        ],
        [
         "34",
         "1999-03-12",
         "1.6145",
         "1.6145",
         "1.5494",
         "1.5772",
         "627942",
         "0"
        ],
        [
         "35",
         "1999-03-15",
         "1.6145",
         "1.6607",
         "1.6052",
         "1.6423",
         "745320",
         "0"
        ],
        [
         "36",
         "1999-03-16",
         "1.6513",
         "1.67",
         "1.5772",
         "1.5864",
         "542255",
         "0"
        ],
        [
         "37",
         "1999-03-17",
         "1.6052",
         "1.6329",
         "1.5586",
         "1.5957",
         "358591",
         "0"
        ],
        [
         "38",
         "1999-03-18",
         "1.6052",
         "1.6423",
         "1.5679",
         "1.6238",
         "323995",
         "0"
        ],
        [
         "39",
         "1999-03-19",
         "1.6145",
         "1.67",
         "1.6145",
         "1.6238",
         "726563",
         "0"
        ],
        [
         "40",
         "1999-03-22",
         "1.6607",
         "1.6607",
         "1.5772",
         "1.5772",
         "258678",
         "0"
        ],
        [
         "41",
         "1999-03-23",
         "1.5864",
         "1.5864",
         "1.4473",
         "1.4752",
         "1107467",
         "0"
        ],
        [
         "42",
         "1999-03-24",
         "1.466",
         "1.4752",
         "1.4104",
         "1.466",
         "422290",
         "0"
        ],
        [
         "43",
         "1999-03-25",
         "1.466",
         "1.5494",
         "1.4566",
         "1.4843",
         "279050",
         "0"
        ],
        [
         "44",
         "1999-03-26",
         "1.5124",
         "1.6238",
         "1.5124",
         "1.6238",
         "601751",
         "0"
        ],
        [
         "45",
         "1999-03-29",
         "1.67",
         "1.707",
         "1.6423",
         "1.67",
         "457860",
         "0"
        ],
        [
         "46",
         "1999-03-30",
         "1.67",
         "1.6886",
         "1.5215",
         "1.5311",
         "476938",
         "0"
        ],
        [
         "47",
         "1999-03-31",
         "1.5772",
         "1.6513",
         "1.503",
         "1.6329",
         "1034716",
         "0"
        ],
        [
         "48",
         "1999-04-01",
         "1.6329",
         "1.6423",
         "1.5586",
         "1.5864",
         "211149",
         "0"
        ],
        [
         "49",
         "1999-04-05",
         "1.5679",
         "1.6052",
         "1.5311",
         "1.5401",
         "674504",
         "0"
        ]
       ],
       "shape": {
        "columns": 7,
        "rows": 4733
       }
      },
      "text/html": [
       "<div>\n",
       "<style scoped>\n",
       "    .dataframe tbody tr th:only-of-type {\n",
       "        vertical-align: middle;\n",
       "    }\n",
       "\n",
       "    .dataframe tbody tr th {\n",
       "        vertical-align: top;\n",
       "    }\n",
       "\n",
       "    .dataframe thead th {\n",
       "        text-align: right;\n",
       "    }\n",
       "</style>\n",
       "<table border=\"1\" class=\"dataframe\">\n",
       "  <thead>\n",
       "    <tr style=\"text-align: right;\">\n",
       "      <th></th>\n",
       "      <th>Date</th>\n",
       "      <th>Open</th>\n",
       "      <th>High</th>\n",
       "      <th>Low</th>\n",
       "      <th>Close</th>\n",
       "      <th>Volume</th>\n",
       "      <th>OpenInt</th>\n",
       "    </tr>\n",
       "  </thead>\n",
       "  <tbody>\n",
       "    <tr>\n",
       "      <th>0</th>\n",
       "      <td>1999-01-22</td>\n",
       "      <td>1.6238</td>\n",
       "      <td>1.8092</td>\n",
       "      <td>1.4379</td>\n",
       "      <td>1.5215</td>\n",
       "      <td>18297633</td>\n",
       "      <td>0</td>\n",
       "    </tr>\n",
       "    <tr>\n",
       "      <th>1</th>\n",
       "      <td>1999-01-25</td>\n",
       "      <td>1.6423</td>\n",
       "      <td>1.6980</td>\n",
       "      <td>1.5215</td>\n",
       "      <td>1.6793</td>\n",
       "      <td>3445279</td>\n",
       "      <td>0</td>\n",
       "    </tr>\n",
       "    <tr>\n",
       "      <th>2</th>\n",
       "      <td>1999-01-26</td>\n",
       "      <td>1.6980</td>\n",
       "      <td>1.7350</td>\n",
       "      <td>1.5311</td>\n",
       "      <td>1.5494</td>\n",
       "      <td>2320993</td>\n",
       "      <td>0</td>\n",
       "    </tr>\n",
       "    <tr>\n",
       "      <th>3</th>\n",
       "      <td>1999-01-27</td>\n",
       "      <td>1.5586</td>\n",
       "      <td>1.5957</td>\n",
       "      <td>1.4660</td>\n",
       "      <td>1.5494</td>\n",
       "      <td>1662658</td>\n",
       "      <td>0</td>\n",
       "    </tr>\n",
       "    <tr>\n",
       "      <th>4</th>\n",
       "      <td>1999-01-28</td>\n",
       "      <td>1.5494</td>\n",
       "      <td>1.5586</td>\n",
       "      <td>1.5311</td>\n",
       "      <td>1.5401</td>\n",
       "      <td>1540110</td>\n",
       "      <td>0</td>\n",
       "    </tr>\n",
       "    <tr>\n",
       "      <th>...</th>\n",
       "      <td>...</td>\n",
       "      <td>...</td>\n",
       "      <td>...</td>\n",
       "      <td>...</td>\n",
       "      <td>...</td>\n",
       "      <td>...</td>\n",
       "      <td>...</td>\n",
       "    </tr>\n",
       "    <tr>\n",
       "      <th>4728</th>\n",
       "      <td>2017-11-06</td>\n",
       "      <td>207.2000</td>\n",
       "      <td>209.9800</td>\n",
       "      <td>206.7000</td>\n",
       "      <td>209.6300</td>\n",
       "      <td>9731783</td>\n",
       "      <td>0</td>\n",
       "    </tr>\n",
       "    <tr>\n",
       "      <th>4729</th>\n",
       "      <td>2017-11-07</td>\n",
       "      <td>210.5500</td>\n",
       "      <td>212.9000</td>\n",
       "      <td>210.0560</td>\n",
       "      <td>212.0000</td>\n",
       "      <td>10671815</td>\n",
       "      <td>0</td>\n",
       "    </tr>\n",
       "    <tr>\n",
       "      <th>4730</th>\n",
       "      <td>2017-11-08</td>\n",
       "      <td>211.8500</td>\n",
       "      <td>212.0000</td>\n",
       "      <td>207.2400</td>\n",
       "      <td>209.1600</td>\n",
       "      <td>13033902</td>\n",
       "      <td>0</td>\n",
       "    </tr>\n",
       "    <tr>\n",
       "      <th>4731</th>\n",
       "      <td>2017-11-09</td>\n",
       "      <td>205.2700</td>\n",
       "      <td>206.3300</td>\n",
       "      <td>200.3700</td>\n",
       "      <td>205.3200</td>\n",
       "      <td>23895006</td>\n",
       "      <td>0</td>\n",
       "    </tr>\n",
       "    <tr>\n",
       "      <th>4732</th>\n",
       "      <td>2017-11-10</td>\n",
       "      <td>213.0800</td>\n",
       "      <td>218.6700</td>\n",
       "      <td>211.6300</td>\n",
       "      <td>216.1400</td>\n",
       "      <td>31300857</td>\n",
       "      <td>0</td>\n",
       "    </tr>\n",
       "  </tbody>\n",
       "</table>\n",
       "<p>4733 rows × 7 columns</p>\n",
       "</div>"
      ],
      "text/plain": [
       "            Date      Open      High       Low     Close    Volume  OpenInt\n",
       "0     1999-01-22    1.6238    1.8092    1.4379    1.5215  18297633        0\n",
       "1     1999-01-25    1.6423    1.6980    1.5215    1.6793   3445279        0\n",
       "2     1999-01-26    1.6980    1.7350    1.5311    1.5494   2320993        0\n",
       "3     1999-01-27    1.5586    1.5957    1.4660    1.5494   1662658        0\n",
       "4     1999-01-28    1.5494    1.5586    1.5311    1.5401   1540110        0\n",
       "...          ...       ...       ...       ...       ...       ...      ...\n",
       "4728  2017-11-06  207.2000  209.9800  206.7000  209.6300   9731783        0\n",
       "4729  2017-11-07  210.5500  212.9000  210.0560  212.0000  10671815        0\n",
       "4730  2017-11-08  211.8500  212.0000  207.2400  209.1600  13033902        0\n",
       "4731  2017-11-09  205.2700  206.3300  200.3700  205.3200  23895006        0\n",
       "4732  2017-11-10  213.0800  218.6700  211.6300  216.1400  31300857        0\n",
       "\n",
       "[4733 rows x 7 columns]"
      ]
     },
     "execution_count": 373,
     "metadata": {},
     "output_type": "execute_result"
    }
   ],
   "source": [
    "import pandas as pd\n",
    "import numpy as np\n",
    "import torch\n",
    "from torch.utils.data import DataLoader, TensorDataset\n",
    "import matplotlib.pyplot as plt\n",
    "import random\n",
    "from sklearn.preprocessing import MinMaxScaler, StandardScaler\n",
    "from sklearn.linear_model import LassoCV\n",
    "from sklearn.metrics import mean_squared_error\n",
    "\n",
    "df = pd.read_csv('./nvda.us.txt')\n",
    "df"
   ]
  },
  {
   "cell_type": "code",
   "execution_count": 374,
   "id": "7b2193eb",
   "metadata": {},
   "outputs": [],
   "source": [
    "# SEED\n",
    "def set_seed(seed):\n",
    "    torch.manual_seed(seed)\n",
    "    torch.cuda.manual_seed(seed)\n",
    "    torch.cuda.manual_seed_all(seed)  \n",
    "    np.random.seed(seed)\n",
    "    random.seed(seed)\n",
    "    torch.backends.cudnn.deterministic = True  \n",
    "    torch.backends.cudnn.benchmark = False     \n",
    "\n",
    "set_seed(1314520)"
   ]
  },
  {
   "cell_type": "code",
   "execution_count": 375,
   "id": "97f3e5ca-600c-42f6-88d2-8e057ca2c612",
   "metadata": {
    "id": "97f3e5ca-600c-42f6-88d2-8e057ca2c612"
   },
   "outputs": [
    {
     "data": {
      "image/png": "[encoded data removed]",
      "text/plain": [
       "<Figure size 1500x500 with 1 Axes>"
      ]
     },
     "metadata": {},
     "output_type": "display_data"
    }
   ],
   "source": [
    "plot = df.plot('Date', 'Volume', figsize=(15, 5))"
   ]
  },
  {
   "cell_type": "code",
   "execution_count": 376,
   "id": "f88398db",
   "metadata": {},
   "outputs": [
    {
     "data": {
      "application/vnd.microsoft.datawrangler.viewer.v0+json": {
       "columns": [
        {
         "name": "index",
         "rawType": "object",
         "type": "string"
        },
        {
         "name": "High",
         "rawType": "float64",
         "type": "float"
        },
        {
         "name": "Low",
         "rawType": "float64",
         "type": "float"
        },
        {
         "name": "Open",
         "rawType": "float64",
         "type": "float"
        },
        {
         "name": "Close",
         "rawType": "float64",
         "type": "float"
        },
        {
         "name": "Volume",
         "rawType": "float64",
         "type": "float"
        }
       ],
       "conversionMethod": "pd.DataFrame",
       "ref": "0c42479f-eb83-4b4c-89fd-d3750874198f",
       "rows": [
        [
         "High",
         "1.0",
         "0.9997704498921646",
         "0.9998615690777442",
         "0.9998379588938701",
         "-0.004773848435359009"
        ],
        [
         "Low",
         "0.9997704498921646",
         "1.0",
         "0.9998037130329193",
         "0.9998626602452595",
         "-0.01178487226535354"
        ],
        [
         "Open",
         "0.9998615690777442",
         "0.9998037130329193",
         "1.0",
         "0.9996580885031532",
         "-0.007864739816563226"
        ],
        [
         "Close",
         "0.9998379588938701",
         "0.9998626602452595",
         "0.9996580885031532",
         "1.0",
         "-0.00833879596165046"
        ],
        [
         "Volume",
         "-0.004773848435359009",
         "-0.01178487226535354",
         "-0.007864739816563226",
         "-0.00833879596165046",
         "1.0"
        ]
       ],
       "shape": {
        "columns": 5,
        "rows": 5
       }
      },
      "text/html": [
       "<div>\n",
       "<style scoped>\n",
       "    .dataframe tbody tr th:only-of-type {\n",
       "        vertical-align: middle;\n",
       "    }\n",
       "\n",
       "    .dataframe tbody tr th {\n",
       "        vertical-align: top;\n",
       "    }\n",
       "\n",
       "    .dataframe thead th {\n",
       "        text-align: right;\n",
       "    }\n",
       "</style>\n",
       "<table border=\"1\" class=\"dataframe\">\n",
       "  <thead>\n",
       "    <tr style=\"text-align: right;\">\n",
       "      <th></th>\n",
       "      <th>High</th>\n",
       "      <th>Low</th>\n",
       "      <th>Open</th>\n",
       "      <th>Close</th>\n",
       "      <th>Volume</th>\n",
       "    </tr>\n",
       "  </thead>\n",
       "  <tbody>\n",
       "    <tr>\n",
       "      <th>High</th>\n",
       "      <td>1.000000</td>\n",
       "      <td>0.999770</td>\n",
       "      <td>0.999862</td>\n",
       "      <td>0.999838</td>\n",
       "      <td>-0.004774</td>\n",
       "    </tr>\n",
       "    <tr>\n",
       "      <th>Low</th>\n",
       "      <td>0.999770</td>\n",
       "      <td>1.000000</td>\n",
       "      <td>0.999804</td>\n",
       "      <td>0.999863</td>\n",
       "      <td>-0.011785</td>\n",
       "    </tr>\n",
       "    <tr>\n",
       "      <th>Open</th>\n",
       "      <td>0.999862</td>\n",
       "      <td>0.999804</td>\n",
       "      <td>1.000000</td>\n",
       "      <td>0.999658</td>\n",
       "      <td>-0.007865</td>\n",
       "    </tr>\n",
       "    <tr>\n",
       "      <th>Close</th>\n",
       "      <td>0.999838</td>\n",
       "      <td>0.999863</td>\n",
       "      <td>0.999658</td>\n",
       "      <td>1.000000</td>\n",
       "      <td>-0.008339</td>\n",
       "    </tr>\n",
       "    <tr>\n",
       "      <th>Volume</th>\n",
       "      <td>-0.004774</td>\n",
       "      <td>-0.011785</td>\n",
       "      <td>-0.007865</td>\n",
       "      <td>-0.008339</td>\n",
       "      <td>1.000000</td>\n",
       "    </tr>\n",
       "  </tbody>\n",
       "</table>\n",
       "</div>"
      ],
      "text/plain": [
       "            High       Low      Open     Close    Volume\n",
       "High    1.000000  0.999770  0.999862  0.999838 -0.004774\n",
       "Low     0.999770  1.000000  0.999804  0.999863 -0.011785\n",
       "Open    0.999862  0.999804  1.000000  0.999658 -0.007865\n",
       "Close   0.999838  0.999863  0.999658  1.000000 -0.008339\n",
       "Volume -0.004774 -0.011785 -0.007865 -0.008339  1.000000"
      ]
     },
     "execution_count": 376,
     "metadata": {},
     "output_type": "execute_result"
    }
   ],
   "source": [
    "df[[\"High\", \"Low\", \"Open\", \"Close\", \"Volume\"]].corr()"
   ]
  },
  {
   "cell_type": "code",
   "execution_count": 377,
   "id": "34241797-60f0-4818-a44b-f5379948d621",
   "metadata": {
    "id": "34241797-60f0-4818-a44b-f5379948d621"
   },
   "outputs": [
    {
     "data": {
      "text/plain": [
       "Index(['Date', 'Open', 'High', 'Low', 'Close', 'Volume', 'OpenInt'], dtype='object')"
      ]
     },
     "execution_count": 377,
     "metadata": {},
     "output_type": "execute_result"
    }
   ],
   "source": [
    "df.columns"
   ]
  },
  {
   "cell_type": "code",
   "execution_count": 378,
   "id": "026585db-a6d8-4062-85de-e3a7eaebed72",
   "metadata": {
    "id": "026585db-a6d8-4062-85de-e3a7eaebed72"
   },
   "outputs": [
    {
     "name": "stdout",
     "output_type": "stream",
     "text": [
      "<class 'pandas.core.frame.DataFrame'>\n",
      "RangeIndex: 4733 entries, 0 to 4732\n",
      "Data columns (total 7 columns):\n",
      " #   Column   Non-Null Count  Dtype  \n",
      "---  ------   --------------  -----  \n",
      " 0   Date     4733 non-null   object \n",
      " 1   Open     4733 non-null   float64\n",
      " 2   High     4733 non-null   float64\n",
      " 3   Low      4733 non-null   float64\n",
      " 4   Close    4733 non-null   float64\n",
      " 5   Volume   4733 non-null   int64  \n",
      " 6   OpenInt  4733 non-null   int64  \n",
      "dtypes: float64(4), int64(2), object(1)\n",
      "memory usage: 259.0+ KB\n"
     ]
    }
   ],
   "source": [
    "df.info()"
   ]
  },
  {
   "cell_type": "code",
   "execution_count": 379,
   "id": "69031e6d-0fb5-49d9-b723-a0d1fee08c3c",
   "metadata": {
    "id": "69031e6d-0fb5-49d9-b723-a0d1fee08c3c"
   },
   "outputs": [
    {
     "data": {
      "text/plain": [
       "Date       0\n",
       "Open       0\n",
       "High       0\n",
       "Low        0\n",
       "Close      0\n",
       "Volume     0\n",
       "OpenInt    0\n",
       "dtype: int64"
      ]
     },
     "execution_count": 379,
     "metadata": {},
     "output_type": "execute_result"
    }
   ],
   "source": [
    "# checking for null values\n",
    "df.isnull().sum()"
   ]
  },
  {
   "cell_type": "code",
   "execution_count": 380,
   "id": "cb3090f8-2cfa-4f56-8aa5-cf954bb19932",
   "metadata": {
    "id": "cb3090f8-2cfa-4f56-8aa5-cf954bb19932"
   },
   "outputs": [],
   "source": [
    "df = df.dropna()"
   ]
  },
  {
   "cell_type": "code",
   "execution_count": 381,
   "id": "38aadbee-d68f-4ae0-b842-b40800b0cac9",
   "metadata": {
    "id": "38aadbee-d68f-4ae0-b842-b40800b0cac9"
   },
   "outputs": [
    {
     "data": {
      "text/plain": [
       "(4733, 7)"
      ]
     },
     "execution_count": 381,
     "metadata": {},
     "output_type": "execute_result"
    }
   ],
   "source": [
    "df.shape"
   ]
  },
  {
   "cell_type": "code",
   "execution_count": 382,
   "id": "051108c6-7011-4187-9e36-bd2944a019ca",
   "metadata": {
    "id": "051108c6-7011-4187-9e36-bd2944a019ca"
   },
   "outputs": [
    {
     "data": {
      "application/vnd.microsoft.datawrangler.viewer.v0+json": {
       "columns": [
        {
         "name": "index",
         "rawType": "object",
         "type": "string"
        },
        {
         "name": "Open",
         "rawType": "float64",
         "type": "float"
        },
        {
         "name": "High",
         "rawType": "float64",
         "type": "float"
        },
        {
         "name": "Low",
         "rawType": "float64",
         "type": "float"
        },
        {
         "name": "Close",
         "rawType": "float64",
         "type": "float"
        },
        {
         "name": "Volume",
         "rawType": "float64",
         "type": "float"
        },
        {
         "name": "OpenInt",
         "rawType": "float64",
         "type": "float"
        }
       ],
       "conversionMethod": "pd.DataFrame",
       "ref": "ebdc53c1-9bc3-49d0-b1c6-06f6d4a29f18",
       "rows": [
        [
         "count",
         "4733.0",
         "4733.0",
         "4733.0",
         "4733.0",
         "4733.0",
         "4733.0"
        ],
        [
         "mean",
         "20.796242045214452",
         "21.157331565603215",
         "20.420417261778997",
         "20.805404310162686",
         "16152870.570885273",
         "0.0"
        ],
        [
         "std",
         "30.236283591120824",
         "30.61562240587683",
         "29.79295785387948",
         "30.2637047723607",
         "12724458.499020938",
         "0.0"
        ],
        [
         "min",
         "1.2989",
         "1.3175",
         "1.2339",
         "1.2619",
         "0.0",
         "0.0"
        ],
        [
         "25%",
         "7.9883",
         "8.2479",
         "7.7564",
         "7.9789",
         "8181100.0",
         "0.0"
        ],
        [
         "50%",
         "12.963",
         "13.238",
         "12.721",
         "12.99",
         "13902713.0",
         "0.0"
        ],
        [
         "75%",
         "19.141",
         "19.418",
         "18.778",
         "19.106",
         "20516022.0",
         "0.0"
        ],
        [
         "max",
         "213.08",
         "218.67",
         "211.63",
         "216.14",
         "249665903.0",
         "0.0"
        ]
       ],
       "shape": {
        "columns": 6,
        "rows": 8
       }
      },
      "text/html": [
       "<div>\n",
       "<style scoped>\n",
       "    .dataframe tbody tr th:only-of-type {\n",
       "        vertical-align: middle;\n",
       "    }\n",
       "\n",
       "    .dataframe tbody tr th {\n",
       "        vertical-align: top;\n",
       "    }\n",
       "\n",
       "    .dataframe thead th {\n",
       "        text-align: right;\n",
       "    }\n",
       "</style>\n",
       "<table border=\"1\" class=\"dataframe\">\n",
       "  <thead>\n",
       "    <tr style=\"text-align: right;\">\n",
       "      <th></th>\n",
       "      <th>Open</th>\n",
       "      <th>High</th>\n",
       "      <th>Low</th>\n",
       "      <th>Close</th>\n",
       "      <th>Volume</th>\n",
       "      <th>OpenInt</th>\n",
       "    </tr>\n",
       "  </thead>\n",
       "  <tbody>\n",
       "    <tr>\n",
       "      <th>count</th>\n",
       "      <td>4733.000000</td>\n",
       "      <td>4733.000000</td>\n",
       "      <td>4733.000000</td>\n",
       "      <td>4733.000000</td>\n",
       "      <td>4.733000e+03</td>\n",
       "      <td>4733.0</td>\n",
       "    </tr>\n",
       "    <tr>\n",
       "      <th>mean</th>\n",
       "      <td>20.796242</td>\n",
       "      <td>21.157332</td>\n",
       "      <td>20.420417</td>\n",
       "      <td>20.805404</td>\n",
       "      <td>1.615287e+07</td>\n",
       "      <td>0.0</td>\n",
       "    </tr>\n",
       "    <tr>\n",
       "      <th>std</th>\n",
       "      <td>30.236284</td>\n",
       "      <td>30.615622</td>\n",
       "      <td>29.792958</td>\n",
       "      <td>30.263705</td>\n",
       "      <td>1.272446e+07</td>\n",
       "      <td>0.0</td>\n",
       "    </tr>\n",
       "    <tr>\n",
       "      <th>min</th>\n",
       "      <td>1.298900</td>\n",
       "      <td>1.317500</td>\n",
       "      <td>1.233900</td>\n",
       "      <td>1.261900</td>\n",
       "      <td>0.000000e+00</td>\n",
       "      <td>0.0</td>\n",
       "    </tr>\n",
       "    <tr>\n",
       "      <th>25%</th>\n",
       "      <td>7.988300</td>\n",
       "      <td>8.247900</td>\n",
       "      <td>7.756400</td>\n",
       "      <td>7.978900</td>\n",
       "      <td>8.181100e+06</td>\n",
       "      <td>0.0</td>\n",
       "    </tr>\n",
       "    <tr>\n",
       "      <th>50%</th>\n",
       "      <td>12.963000</td>\n",
       "      <td>13.238000</td>\n",
       "      <td>12.721000</td>\n",
       "      <td>12.990000</td>\n",
       "      <td>1.390271e+07</td>\n",
       "      <td>0.0</td>\n",
       "    </tr>\n",
       "    <tr>\n",
       "      <th>75%</th>\n",
       "      <td>19.141000</td>\n",
       "      <td>19.418000</td>\n",
       "      <td>18.778000</td>\n",
       "      <td>19.106000</td>\n",
       "      <td>2.051602e+07</td>\n",
       "      <td>0.0</td>\n",
       "    </tr>\n",
       "    <tr>\n",
       "      <th>max</th>\n",
       "      <td>213.080000</td>\n",
       "      <td>218.670000</td>\n",
       "      <td>211.630000</td>\n",
       "      <td>216.140000</td>\n",
       "      <td>2.496659e+08</td>\n",
       "      <td>0.0</td>\n",
       "    </tr>\n",
       "  </tbody>\n",
       "</table>\n",
       "</div>"
      ],
      "text/plain": [
       "              Open         High          Low        Close        Volume  \\\n",
       "count  4733.000000  4733.000000  4733.000000  4733.000000  4.733000e+03   \n",
       "mean     20.796242    21.157332    20.420417    20.805404  1.615287e+07   \n",
       "std      30.236284    30.615622    29.792958    30.263705  1.272446e+07   \n",
       "min       1.298900     1.317500     1.233900     1.261900  0.000000e+00   \n",
       "25%       7.988300     8.247900     7.756400     7.978900  8.181100e+06   \n",
       "50%      12.963000    13.238000    12.721000    12.990000  1.390271e+07   \n",
       "75%      19.141000    19.418000    18.778000    19.106000  2.051602e+07   \n",
       "max     213.080000   218.670000   211.630000   216.140000  2.496659e+08   \n",
       "\n",
       "       OpenInt  \n",
       "count   4733.0  \n",
       "mean       0.0  \n",
       "std        0.0  \n",
       "min        0.0  \n",
       "25%        0.0  \n",
       "50%        0.0  \n",
       "75%        0.0  \n",
       "max        0.0  "
      ]
     },
     "execution_count": 382,
     "metadata": {},
     "output_type": "execute_result"
    }
   ],
   "source": [
    "df.describe()"
   ]
  },
  {
   "cell_type": "markdown",
   "id": "8ce7a0c5-76d6-4863-ba61-0544a220962a",
   "metadata": {
    "id": "8ce7a0c5-76d6-4863-ba61-0544a220962a"
   },
   "source": [
    "#### Converting the DataFrame to a NumPy Array"
   ]
  },
  {
   "cell_type": "code",
   "execution_count": 383,
   "id": "5735baad-2db8-4306-aa4c-7788d2b49621",
   "metadata": {
    "id": "5735baad-2db8-4306-aa4c-7788d2b49621"
   },
   "outputs": [],
   "source": [
    "def create_sequences(input_data, output_data, window_size, step):\n",
    "    \n",
    "    print(f\"Input Data Size: {input_data.shape}, Output Data Size: {output_data.shape}, Window Size: {window_size}, Step: {step}\")\n",
    "    \n",
    "    sequences = []\n",
    "    labels = []\n",
    "    for i in range(0, len(input_data) - window_size, step):\n",
    "        sequences.append(input_data[i:(i + window_size)])\n",
    "        labels.append(output_data[i + window_size])\n",
    "    return np.array(sequences), np.array(labels)"
   ]
  },
  {
   "cell_type": "code",
   "execution_count": 384,
   "id": "29b8e189-7f39-435a-8038-39098b147325",
   "metadata": {
    "id": "29b8e189-7f39-435a-8038-39098b147325"
   },
   "outputs": [
    {
     "name": "stdout",
     "output_type": "stream",
     "text": [
      "Input Data Size: (4733, 5), Output Data Size: (4733,), Window Size: 5, Step: 5\n",
      "Shape of data X: (946, 5, 5)\n",
      "Shape of data y: (946,)\n",
      "Shape of data x_train: (681, 5, 5)\n",
      "Shape of data y_train: (681,)\n",
      "Shape of data x_val: (171, 5, 5)\n",
      "Shape of data y_val: (171,)\n",
      "Shape of data x_test: (94, 5, 5)\n",
      "Shape of data y_test: (94,)\n",
      "Number of samples in training and validation are 681 and 171.\n"
     ]
    }
   ],
   "source": [
    "# Select features\n",
    "features = df[['Open', 'High', 'Low', \"Close\", 'Volume']]\n",
    "labels = df['High'].shift(-1)  # Next day's high price as label\n",
    "\n",
    "X, y = create_sequences(features, labels, window_size=5, step=5)\n",
    "\n",
    "print(f'Shape of data X: {X.shape}')\n",
    "print(f'Shape of data y: {y.shape}')\n",
    "\n",
    "# split the hold-out tests\n",
    "ind = np.linspace(0, len(X)-1, num=int(len(X)*0.1), dtype=int) # 10% hold-out\n",
    "x_test = X[ind]\n",
    "y_test = y[ind]\n",
    "all_ind = np.arange(len(X))\n",
    "remains_ind = np.delete(all_ind, ind)\n",
    "\n",
    "X = X[remains_ind]\n",
    "y = y[remains_ind]\n",
    "\n",
    "# shuffle dataset\n",
    "ind = np.random.permutation(len(X))\n",
    "X = X[ind]\n",
    "y = y[ind]\n",
    "split_point = int(X.shape[0]*0.8)\n",
    "\n",
    "x_train = X[:split_point]\n",
    "y_train = y[:split_point]\n",
    "x_val = X[split_point:]\n",
    "y_val = y[split_point:]\n",
    "\n",
    "train_mean = x_train.mean(axis=(0, 1), keepdims=True)\n",
    "train_std = x_train.std(axis=(0, 1), keepdims=True)\n",
    "\n",
    "x_train = (x_train - train_mean) / (train_std + 1e-8)\n",
    "x_val = (x_val - train_mean) / (train_std + 1e-8)\n",
    "x_test = (x_test - train_mean) / (train_std + 1e-8)\n",
    "\n",
    "print(f'Shape of data x_train: {x_train.shape}')\n",
    "print(f'Shape of data y_train: {y_train.shape}')\n",
    "print(f'Shape of data x_val: {x_val.shape}')\n",
    "print(f'Shape of data y_val: {y_val.shape}')\n",
    "print(f'Shape of data x_test: {x_test.shape}')\n",
    "print(f'Shape of data y_test: {y_test.shape}')\n",
    "\n",
    "# Convert to PyTorch tensors\n",
    "x_train = torch.from_numpy(x_train).float()\n",
    "y_train = torch.from_numpy(y_train).float()\n",
    "\n",
    "x_val = torch.from_numpy(x_val).float()\n",
    "y_val = torch.from_numpy(y_val).float()\n",
    "\n",
    "x_test = torch.from_numpy(x_test).float()\n",
    "y_test = torch.from_numpy(y_test).float()\n",
    "\n",
    "batch_size = 32\n",
    "\n",
    "# Create datasets\n",
    "train_dataset = TensorDataset(x_train, y_train)\n",
    "val_dataset = TensorDataset(x_val, y_val)\n",
    "test_dataset = TensorDataset(x_test, y_test)\n",
    "\n",
    "# Create dataloaders\n",
    "train_loader = DataLoader(train_dataset, batch_size=batch_size, shuffle=True)\n",
    "val_loader = DataLoader(val_dataset, batch_size=batch_size, shuffle=False)\n",
    "test_loader = DataLoader(test_dataset, batch_size=batch_size, shuffle=False)\n",
    "\n",
    "print(f'Number of samples in training and validation are {len(train_loader.dataset)} and {len(val_loader.dataset)}.')"
   ]
  },
  {
   "cell_type": "markdown",
   "id": "8ffc26b9-6044-41e9-93e2-7dc6250dbd27",
   "metadata": {
    "id": "8ffc26b9-6044-41e9-93e2-7dc6250dbd27"
   },
   "source": [
    "## B. Defining Neural Networks"
   ]
  },
  {
   "cell_type": "code",
   "execution_count": 385,
   "id": "77975746-a7a7-4676-9527-57674cd98c0f",
   "metadata": {
    "id": "77975746-a7a7-4676-9527-57674cd98c0f"
   },
   "outputs": [],
   "source": [
    "import torch.nn as nn\n",
    "\n",
    "class LSTMModel(nn.Module):\n",
    "    def __init__(self, input_dim, hidden_dim, num_layers, output_dim):\n",
    "        super().__init__()\n",
    "        self.hidden_dim = hidden_dim\n",
    "        self.num_layers = num_layers\n",
    "        self.lstm = nn.LSTM(input_dim, hidden_dim, num_layers, batch_first=True)\n",
    "        self.fc = nn.Linear(hidden_dim, output_dim)\n",
    "\n",
    "    def forward(self, x):\n",
    "        out, _ = self.lstm(x)\n",
    "        out = self.fc(out[:, -1, :])\n",
    "        return out"
   ]
  },
  {
   "cell_type": "markdown",
   "id": "cbb8b5b0-0ec0-406c-a42e-048aa00e05aa",
   "metadata": {
    "id": "cbb8b5b0-0ec0-406c-a42e-048aa00e05aa"
   },
   "source": [
    "## C. Training the Neural Network"
   ]
  },
  {
   "cell_type": "code",
   "execution_count": 386,
   "id": "3602ae7d-4034-4c49-b221-0c12a5824b18",
   "metadata": {
    "colab": {
     "base_uri": "https://localhost:8080/"
    },
    "executionInfo": {
     "elapsed": 108,
     "status": "ok",
     "timestamp": 1744823436118,
     "user": {
      "displayName": "林明聰",
      "userId": "10350944269371174646"
     },
     "user_tz": -480
    },
    "id": "3602ae7d-4034-4c49-b221-0c12a5824b18",
    "outputId": "c9e5e605-4755-46cd-8e4a-e2e3e666a910"
   },
   "outputs": [
    {
     "name": "stdout",
     "output_type": "stream",
     "text": [
      "Thu May  1 15:11:16 2025       \n",
      "+-----------------------------------------------------------------------------------------+\n",
      "| NVIDIA-SMI 560.94                 Driver Version: 560.94         CUDA Version: 12.6     |\n",
      "|-----------------------------------------+------------------------+----------------------+\n",
      "| GPU  Name                  Driver-Model | Bus-Id          Disp.A | Volatile Uncorr. ECC |\n",
      "| Fan  Temp   Perf          Pwr:Usage/Cap |           Memory-Usage | GPU-Util  Compute M. |\n",
      "|                                         |                        |               MIG M. |\n",
      "|=========================================+========================+======================|\n",
      "|   0  NVIDIA GeForce RTX 3050      WDDM  |   00000000:01:00.0  On |                  N/A |\n",
      "| 30%   31C    P8             13W /  130W |    1934MiB /   8192MiB |     14%      Default |\n",
      "|                                         |                        |                  N/A |\n",
      "+-----------------------------------------+------------------------+----------------------+\n",
      "                                                                                         \n",
      "+-----------------------------------------------------------------------------------------+\n",
      "| Processes:                                                                              |\n",
      "|  GPU   GI   CI        PID   Type   Process name                              GPU Memory |\n",
      "|        ID   ID                                                               Usage      |\n",
      "|=========================================================================================|\n",
      "|    0   N/A  N/A      2008    C+G   ...5n1h2txyewy\\ShellExperienceHost.exe      N/A      |\n",
      "|    0   N/A  N/A      8640    C+G   C:\\Windows\\explorer.exe                     N/A      |\n",
      "|    0   N/A  N/A     10248    C+G   ...nt.CBS_cw5n1h2txyewy\\SearchHost.exe      N/A      |\n",
      "|    0   N/A  N/A     10272    C+G   ...2txyewy\\StartMenuExperienceHost.exe      N/A      |\n",
      "|    0   N/A  N/A     10392    C+G   ...995_x64__8wekyb3d8bbwe\\ms-teams.exe      N/A      |\n",
      "|    0   N/A  N/A     12680    C+G   ...CBS_cw5n1h2txyewy\\TextInputHost.exe      N/A      |\n",
      "|    0   N/A  N/A     14396    C+G   ...s\\System32\\ApplicationFrameHost.exe      N/A      |\n",
      "|    0   N/A  N/A     14788    C+G   ...\\cef\\cef.win7x64\\steamwebhelper.exe      N/A      |\n",
      "|    0   N/A  N/A     15548    C+G   ...on\\135.0.3179.73\\msedgewebview2.exe      N/A      |\n",
      "|    0   N/A  N/A     15648    C+G   ...ata\\Local\\LINE\\bin\\current\\LINE.exe      N/A      |\n",
      "|    0   N/A  N/A     16120    C+G   ..._x64__8wekyb3d8bbwe\\WebViewHost.exe      N/A      |\n",
      "|    0   N/A  N/A     16832      C   ...\\anaconda3\\envs\\Yichenng\\python.exe      N/A      |\n",
      "|    0   N/A  N/A     17228    C+G   ...ft Office\\root\\Office16\\WINWORD.EXE      N/A      |\n",
      "|    0   N/A  N/A     17236    C+G   ...Programs\\Microsoft VS Code\\Code.exe      N/A      |\n",
      "|    0   N/A  N/A     18372    C+G   ...les\\Microsoft OneDrive\\OneDrive.exe      N/A      |\n",
      "|    0   N/A  N/A     19016    C+G   ...crosoft\\Edge\\Application\\msedge.exe      N/A      |\n",
      "|    0   N/A  N/A     20228    C+G   ...soft Office\\root\\Office16\\EXCEL.EXE      N/A      |\n",
      "|    0   N/A  N/A     20460    C+G   C:\\Windows\\System32\\ShellHost.exe           N/A      |\n",
      "|    0   N/A  N/A     21180    C+G   ...995_x64__8wekyb3d8bbwe\\ms-teams.exe      N/A      |\n",
      "|    0   N/A  N/A     21816    C+G   ...ekyb3d8bbwe\\PhoneExperienceHost.exe      N/A      |\n",
      "|    0   N/A  N/A     22220    C+G   ...siveControlPanel\\SystemSettings.exe      N/A      |\n",
      "|    0   N/A  N/A     24888    C+G   ...ram Files (x86)\\AnyDesk\\AnyDesk.exe      N/A      |\n",
      "|    0   N/A  N/A     26512    C+G   ...on\\135.0.3179.85\\msedgewebview2.exe      N/A      |\n",
      "|    0   N/A  N/A     28840    C+G   ...gin\\LineCall\\1.0.0.861\\LineCall.exe      N/A      |\n",
      "|    0   N/A  N/A     29208    C+G   ...on\\135.0.3179.98\\msedgewebview2.exe      N/A      |\n",
      "+-----------------------------------------------------------------------------------------+\n"
     ]
    }
   ],
   "source": [
    "# Check your GPU status.\n",
    "!nvidia-smi"
   ]
  },
  {
   "cell_type": "code",
   "execution_count": 387,
   "id": "f73a5c35-c15d-49bb-8a33-a7f017159499",
   "metadata": {
    "id": "f73a5c35-c15d-49bb-8a33-a7f017159499"
   },
   "outputs": [
    {
     "name": "stdout",
     "output_type": "stream",
     "text": [
      "LSTMModel(\n",
      "  (lstm): LSTM(5, 500, num_layers=2, batch_first=True)\n",
      "  (fc): Linear(in_features=500, out_features=1, bias=True)\n",
      ")\n"
     ]
    },
    {
     "name": "stderr",
     "output_type": "stream",
     "text": [
      "  3%|▎         | 3/100 [00:00<00:13,  6.96it/s]"
     ]
    },
    {
     "name": "stdout",
     "output_type": "stream",
     "text": [
      "Epoch 1/100, Train loss: 1055.1709, Val loss: 901.9128, Best Train loss: 1055.1709, Best Val loss: 901.9128\n",
      "Epoch 2/100, Train loss: 800.9082, Val loss: 798.7786, Best Train loss: 800.9082, Best Val loss: 798.7786\n",
      "Epoch 3/100, Train loss: 683.8693, Val loss: 665.5354, Best Train loss: 683.8693, Best Val loss: 665.5354\n"
     ]
    },
    {
     "name": "stderr",
     "output_type": "stream",
     "text": [
      "  5%|▌         | 5/100 [00:00<00:11,  8.37it/s]"
     ]
    },
    {
     "name": "stdout",
     "output_type": "stream",
     "text": [
      "Epoch 4/100, Train loss: 581.3714, Val loss: 565.1912, Best Train loss: 581.3714, Best Val loss: 565.1912\n",
      "Epoch 5/100, Train loss: 498.5299, Val loss: 483.7180, Best Train loss: 498.5299, Best Val loss: 483.7180\n",
      "Epoch 6/100, Train loss: 429.9673, Val loss: 408.7504, Best Train loss: 429.9673, Best Val loss: 408.7504\n"
     ]
    },
    {
     "name": "stderr",
     "output_type": "stream",
     "text": [
      "  9%|▉         | 9/100 [00:01<00:09,  9.84it/s]"
     ]
    },
    {
     "name": "stdout",
     "output_type": "stream",
     "text": [
      "Epoch 7/100, Train loss: 376.0479, Val loss: 348.9372, Best Train loss: 376.0479, Best Val loss: 348.9372\n",
      "Epoch 8/100, Train loss: 322.1239, Val loss: 301.0237, Best Train loss: 322.1239, Best Val loss: 301.0237\n",
      "Epoch 9/100, Train loss: 347.3171, Val loss: 260.1950, Best Train loss: 347.3171, Best Val loss: 260.1950\n"
     ]
    },
    {
     "name": "stderr",
     "output_type": "stream",
     "text": [
      " 11%|█         | 11/100 [00:01<00:08, 10.13it/s]"
     ]
    },
    {
     "name": "stdout",
     "output_type": "stream",
     "text": [
      "Epoch 10/100, Train loss: 252.5397, Val loss: 219.4382, Best Train loss: 252.5397, Best Val loss: 219.4382\n",
      "Epoch 11/100, Train loss: 219.1555, Val loss: 191.5170, Best Train loss: 219.1555, Best Val loss: 191.5170\n",
      "Epoch 12/100, Train loss: 202.3850, Val loss: 185.2921, Best Train loss: 202.3850, Best Val loss: 185.2921\n"
     ]
    },
    {
     "name": "stderr",
     "output_type": "stream",
     "text": [
      " 15%|█▌        | 15/100 [00:01<00:08, 10.41it/s]"
     ]
    },
    {
     "name": "stdout",
     "output_type": "stream",
     "text": [
      "Epoch 13/100, Train loss: 178.0577, Val loss: 152.0235, Best Train loss: 178.0577, Best Val loss: 152.0235\n",
      "Epoch 14/100, Train loss: 155.6908, Val loss: 134.5397, Best Train loss: 155.6908, Best Val loss: 134.5397\n",
      "Epoch 15/100, Train loss: 153.2967, Val loss: 119.8341, Best Train loss: 153.2967, Best Val loss: 119.8341\n"
     ]
    },
    {
     "name": "stderr",
     "output_type": "stream",
     "text": [
      " 17%|█▋        | 17/100 [00:01<00:07, 10.78it/s]"
     ]
    },
    {
     "name": "stdout",
     "output_type": "stream",
     "text": [
      "Epoch 16/100, Train loss: 149.4318, Val loss: 107.3561, Best Train loss: 149.4318, Best Val loss: 107.3561\n",
      "Epoch 17/100, Train loss: 108.2951, Val loss: 101.3300, Best Train loss: 108.2951, Best Val loss: 101.3300\n",
      "Epoch 18/100, Train loss: 99.6968, Val loss: 89.3841, Best Train loss: 99.6968, Best Val loss: 89.3841\n"
     ]
    },
    {
     "name": "stderr",
     "output_type": "stream",
     "text": [
      " 21%|██        | 21/100 [00:02<00:07, 10.91it/s]"
     ]
    },
    {
     "name": "stdout",
     "output_type": "stream",
     "text": [
      "Epoch 19/100, Train loss: 96.1209, Val loss: 80.7073, Best Train loss: 96.1209, Best Val loss: 80.7073\n",
      "Epoch 20/100, Train loss: 78.5761, Val loss: 76.2154, Best Train loss: 78.5761, Best Val loss: 76.2154\n",
      "Epoch 21/100, Train loss: 71.7046, Val loss: 65.6388, Best Train loss: 71.7046, Best Val loss: 65.6388\n"
     ]
    },
    {
     "name": "stderr",
     "output_type": "stream",
     "text": [
      " 23%|██▎       | 23/100 [00:02<00:06, 11.32it/s]"
     ]
    },
    {
     "name": "stdout",
     "output_type": "stream",
     "text": [
      "Epoch 22/100, Train loss: 73.1549, Val loss: 66.5923, Best Train loss: 71.7046, Best Val loss: 65.6388\n",
      "Epoch 23/100, Train loss: 64.3886, Val loss: 59.5048, Best Train loss: 64.3886, Best Val loss: 59.5048\n",
      "Epoch 24/100, Train loss: 54.5076, Val loss: 50.7749, Best Train loss: 54.5076, Best Val loss: 50.7749\n"
     ]
    },
    {
     "name": "stderr",
     "output_type": "stream",
     "text": [
      " 27%|██▋       | 27/100 [00:02<00:06, 11.33it/s]"
     ]
    },
    {
     "name": "stdout",
     "output_type": "stream",
     "text": [
      "Epoch 25/100, Train loss: 48.1376, Val loss: 46.6751, Best Train loss: 48.1376, Best Val loss: 46.6751\n",
      "Epoch 26/100, Train loss: 46.5098, Val loss: 46.5281, Best Train loss: 46.5098, Best Val loss: 46.5281\n",
      "Epoch 27/100, Train loss: 41.1011, Val loss: 43.0517, Best Train loss: 41.1011, Best Val loss: 43.0517\n"
     ]
    },
    {
     "name": "stderr",
     "output_type": "stream",
     "text": [
      " 29%|██▉       | 29/100 [00:02<00:06, 11.34it/s]"
     ]
    },
    {
     "name": "stdout",
     "output_type": "stream",
     "text": [
      "Epoch 28/100, Train loss: 37.6592, Val loss: 40.1332, Best Train loss: 37.6592, Best Val loss: 40.1332\n",
      "Epoch 29/100, Train loss: 41.1795, Val loss: 37.9236, Best Train loss: 41.1795, Best Val loss: 37.9236\n",
      "Epoch 30/100, Train loss: 33.1059, Val loss: 34.6866, Best Train loss: 33.1059, Best Val loss: 34.6866\n"
     ]
    },
    {
     "name": "stderr",
     "output_type": "stream",
     "text": [
      " 33%|███▎      | 33/100 [00:03<00:05, 11.57it/s]"
     ]
    },
    {
     "name": "stdout",
     "output_type": "stream",
     "text": [
      "Epoch 31/100, Train loss: 29.3594, Val loss: 32.3999, Best Train loss: 29.3594, Best Val loss: 32.3999\n",
      "Epoch 32/100, Train loss: 26.6525, Val loss: 27.8835, Best Train loss: 26.6525, Best Val loss: 27.8835\n",
      "Epoch 33/100, Train loss: 30.7300, Val loss: 31.9381, Best Train loss: 26.6525, Best Val loss: 27.8835\n"
     ]
    },
    {
     "name": "stderr",
     "output_type": "stream",
     "text": [
      " 35%|███▌      | 35/100 [00:03<00:05, 11.64it/s]"
     ]
    },
    {
     "name": "stdout",
     "output_type": "stream",
     "text": [
      "Epoch 34/100, Train loss: 26.5838, Val loss: 25.3547, Best Train loss: 26.5838, Best Val loss: 25.3547\n",
      "Epoch 35/100, Train loss: 22.3799, Val loss: 24.8153, Best Train loss: 22.3799, Best Val loss: 24.8153\n",
      "Epoch 36/100, Train loss: 20.2404, Val loss: 37.6102, Best Train loss: 22.3799, Best Val loss: 24.8153\n"
     ]
    },
    {
     "name": "stderr",
     "output_type": "stream",
     "text": [
      " 39%|███▉      | 39/100 [00:03<00:05, 11.74it/s]"
     ]
    },
    {
     "name": "stdout",
     "output_type": "stream",
     "text": [
      "Epoch 37/100, Train loss: 31.7366, Val loss: 24.5257, Best Train loss: 31.7366, Best Val loss: 24.5257\n",
      "Epoch 38/100, Train loss: 24.5305, Val loss: 22.2367, Best Train loss: 24.5305, Best Val loss: 22.2367\n",
      "Epoch 39/100, Train loss: 19.9843, Val loss: 20.4523, Best Train loss: 19.9843, Best Val loss: 20.4523\n"
     ]
    },
    {
     "name": "stderr",
     "output_type": "stream",
     "text": [
      " 41%|████      | 41/100 [00:03<00:04, 11.88it/s]"
     ]
    },
    {
     "name": "stdout",
     "output_type": "stream",
     "text": [
      "Epoch 40/100, Train loss: 17.3881, Val loss: 24.8528, Best Train loss: 19.9843, Best Val loss: 20.4523\n",
      "Epoch 41/100, Train loss: 16.6208, Val loss: 18.5755, Best Train loss: 16.6208, Best Val loss: 18.5755\n",
      "Epoch 42/100, Train loss: 14.7053, Val loss: 17.0579, Best Train loss: 14.7053, Best Val loss: 17.0579\n"
     ]
    },
    {
     "name": "stderr",
     "output_type": "stream",
     "text": [
      " 45%|████▌     | 45/100 [00:04<00:04, 11.79it/s]"
     ]
    },
    {
     "name": "stdout",
     "output_type": "stream",
     "text": [
      "Epoch 43/100, Train loss: 14.0159, Val loss: 16.6900, Best Train loss: 14.0159, Best Val loss: 16.6900\n",
      "Epoch 44/100, Train loss: 12.7880, Val loss: 15.7808, Best Train loss: 12.7880, Best Val loss: 15.7808\n",
      "Epoch 45/100, Train loss: 12.4119, Val loss: 15.2745, Best Train loss: 12.4119, Best Val loss: 15.2745\n"
     ]
    },
    {
     "name": "stderr",
     "output_type": "stream",
     "text": [
      " 47%|████▋     | 47/100 [00:04<00:04, 11.70it/s]"
     ]
    },
    {
     "name": "stdout",
     "output_type": "stream",
     "text": [
      "Epoch 46/100, Train loss: 12.8965, Val loss: 15.7354, Best Train loss: 12.4119, Best Val loss: 15.2745\n",
      "Epoch 47/100, Train loss: 16.2760, Val loss: 15.0417, Best Train loss: 16.2760, Best Val loss: 15.0417\n",
      "Epoch 48/100, Train loss: 11.2141, Val loss: 14.4465, Best Train loss: 11.2141, Best Val loss: 14.4465\n"
     ]
    },
    {
     "name": "stderr",
     "output_type": "stream",
     "text": [
      " 51%|█████     | 51/100 [00:04<00:04, 11.78it/s]"
     ]
    },
    {
     "name": "stdout",
     "output_type": "stream",
     "text": [
      "Epoch 49/100, Train loss: 10.5156, Val loss: 13.8302, Best Train loss: 10.5156, Best Val loss: 13.8302\n",
      "Epoch 50/100, Train loss: 10.2864, Val loss: 13.2286, Best Train loss: 10.2864, Best Val loss: 13.2286\n",
      "Epoch 51/100, Train loss: 11.6599, Val loss: 13.5549, Best Train loss: 10.2864, Best Val loss: 13.2286\n"
     ]
    },
    {
     "name": "stderr",
     "output_type": "stream",
     "text": [
      " 53%|█████▎    | 53/100 [00:04<00:04, 11.70it/s]"
     ]
    },
    {
     "name": "stdout",
     "output_type": "stream",
     "text": [
      "Epoch 52/100, Train loss: 9.9367, Val loss: 13.1683, Best Train loss: 9.9367, Best Val loss: 13.1683\n",
      "Epoch 53/100, Train loss: 9.2538, Val loss: 12.3549, Best Train loss: 9.2538, Best Val loss: 12.3549\n",
      "Epoch 54/100, Train loss: 9.1395, Val loss: 12.2168, Best Train loss: 9.1395, Best Val loss: 12.2168\n"
     ]
    },
    {
     "name": "stderr",
     "output_type": "stream",
     "text": [
      " 57%|█████▋    | 57/100 [00:05<00:03, 11.88it/s]"
     ]
    },
    {
     "name": "stdout",
     "output_type": "stream",
     "text": [
      "Epoch 55/100, Train loss: 9.6493, Val loss: 11.8629, Best Train loss: 9.6493, Best Val loss: 11.8629\n",
      "Epoch 56/100, Train loss: 8.9320, Val loss: 11.8538, Best Train loss: 8.9320, Best Val loss: 11.8538\n",
      "Epoch 57/100, Train loss: 9.3851, Val loss: 12.2017, Best Train loss: 8.9320, Best Val loss: 11.8538\n"
     ]
    },
    {
     "name": "stderr",
     "output_type": "stream",
     "text": [
      " 59%|█████▉    | 59/100 [00:05<00:03, 12.18it/s]"
     ]
    },
    {
     "name": "stdout",
     "output_type": "stream",
     "text": [
      "Epoch 58/100, Train loss: 8.8849, Val loss: 11.9836, Best Train loss: 8.9320, Best Val loss: 11.8538\n",
      "Epoch 59/100, Train loss: 11.3539, Val loss: 12.4150, Best Train loss: 8.9320, Best Val loss: 11.8538\n",
      "Epoch 60/100, Train loss: 9.2483, Val loss: 12.0714, Best Train loss: 8.9320, Best Val loss: 11.8538\n"
     ]
    },
    {
     "name": "stderr",
     "output_type": "stream",
     "text": [
      " 63%|██████▎   | 63/100 [00:05<00:03, 12.32it/s]"
     ]
    },
    {
     "name": "stdout",
     "output_type": "stream",
     "text": [
      "Epoch 61/100, Train loss: 8.3495, Val loss: 11.8003, Best Train loss: 8.3495, Best Val loss: 11.8003\n",
      "Epoch 62/100, Train loss: 7.9855, Val loss: 12.6278, Best Train loss: 8.3495, Best Val loss: 11.8003\n",
      "Epoch 63/100, Train loss: 7.8827, Val loss: 11.0557, Best Train loss: 7.8827, Best Val loss: 11.0557\n"
     ]
    },
    {
     "name": "stderr",
     "output_type": "stream",
     "text": [
      " 65%|██████▌   | 65/100 [00:05<00:02, 11.97it/s]"
     ]
    },
    {
     "name": "stdout",
     "output_type": "stream",
     "text": [
      "Epoch 64/100, Train loss: 7.6240, Val loss: 10.6992, Best Train loss: 7.6240, Best Val loss: 10.6992\n",
      "Epoch 65/100, Train loss: 7.8641, Val loss: 10.3912, Best Train loss: 7.8641, Best Val loss: 10.3912\n",
      "Epoch 66/100, Train loss: 7.1125, Val loss: 11.4270, Best Train loss: 7.8641, Best Val loss: 10.3912\n"
     ]
    },
    {
     "name": "stderr",
     "output_type": "stream",
     "text": [
      " 69%|██████▉   | 69/100 [00:06<00:02, 12.06it/s]"
     ]
    },
    {
     "name": "stdout",
     "output_type": "stream",
     "text": [
      "Epoch 67/100, Train loss: 7.6020, Val loss: 11.2285, Best Train loss: 7.8641, Best Val loss: 10.3912\n",
      "Epoch 68/100, Train loss: 7.1807, Val loss: 10.0981, Best Train loss: 7.1807, Best Val loss: 10.0981\n",
      "Epoch 69/100, Train loss: 6.8934, Val loss: 9.8046, Best Train loss: 6.8934, Best Val loss: 9.8046\n"
     ]
    },
    {
     "name": "stderr",
     "output_type": "stream",
     "text": [
      " 71%|███████   | 71/100 [00:06<00:02, 12.02it/s]"
     ]
    },
    {
     "name": "stdout",
     "output_type": "stream",
     "text": [
      "Epoch 70/100, Train loss: 6.5202, Val loss: 11.5829, Best Train loss: 6.8934, Best Val loss: 9.8046\n",
      "Epoch 71/100, Train loss: 6.5045, Val loss: 9.7300, Best Train loss: 6.5045, Best Val loss: 9.7300\n",
      "Epoch 72/100, Train loss: 6.8423, Val loss: 9.7790, Best Train loss: 6.5045, Best Val loss: 9.7300\n"
     ]
    },
    {
     "name": "stderr",
     "output_type": "stream",
     "text": [
      " 75%|███████▌  | 75/100 [00:06<00:02, 12.31it/s]"
     ]
    },
    {
     "name": "stdout",
     "output_type": "stream",
     "text": [
      "Epoch 73/100, Train loss: 6.3713, Val loss: 11.0100, Best Train loss: 6.5045, Best Val loss: 9.7300\n",
      "Epoch 74/100, Train loss: 6.2854, Val loss: 9.4667, Best Train loss: 6.2854, Best Val loss: 9.4667\n",
      "Epoch 75/100, Train loss: 6.3421, Val loss: 11.3198, Best Train loss: 6.2854, Best Val loss: 9.4667\n"
     ]
    },
    {
     "name": "stderr",
     "output_type": "stream",
     "text": [
      " 77%|███████▋  | 77/100 [00:06<00:01, 12.36it/s]"
     ]
    },
    {
     "name": "stdout",
     "output_type": "stream",
     "text": [
      "Epoch 76/100, Train loss: 6.4687, Val loss: 9.9465, Best Train loss: 6.2854, Best Val loss: 9.4667\n",
      "Epoch 77/100, Train loss: 6.0680, Val loss: 9.5071, Best Train loss: 6.2854, Best Val loss: 9.4667\n",
      "Epoch 78/100, Train loss: 6.0032, Val loss: 10.0212, Best Train loss: 6.2854, Best Val loss: 9.4667\n"
     ]
    },
    {
     "name": "stderr",
     "output_type": "stream",
     "text": [
      " 81%|████████  | 81/100 [00:07<00:01, 12.24it/s]"
     ]
    },
    {
     "name": "stdout",
     "output_type": "stream",
     "text": [
      "Epoch 79/100, Train loss: 6.6451, Val loss: 9.4972, Best Train loss: 6.2854, Best Val loss: 9.4667\n",
      "Epoch 80/100, Train loss: 5.9488, Val loss: 9.3305, Best Train loss: 5.9488, Best Val loss: 9.3305\n",
      "Epoch 81/100, Train loss: 5.8135, Val loss: 9.2869, Best Train loss: 5.8135, Best Val loss: 9.2869\n"
     ]
    },
    {
     "name": "stderr",
     "output_type": "stream",
     "text": [
      " 83%|████████▎ | 83/100 [00:07<00:01, 12.32it/s]"
     ]
    },
    {
     "name": "stdout",
     "output_type": "stream",
     "text": [
      "Epoch 82/100, Train loss: 5.7687, Val loss: 9.4237, Best Train loss: 5.8135, Best Val loss: 9.2869\n",
      "Epoch 83/100, Train loss: 5.7250, Val loss: 9.1862, Best Train loss: 5.7250, Best Val loss: 9.1862\n",
      "Epoch 84/100, Train loss: 5.7524, Val loss: 9.2492, Best Train loss: 5.7250, Best Val loss: 9.1862\n"
     ]
    },
    {
     "name": "stderr",
     "output_type": "stream",
     "text": [
      " 87%|████████▋ | 87/100 [00:07<00:01, 11.90it/s]"
     ]
    },
    {
     "name": "stdout",
     "output_type": "stream",
     "text": [
      "Epoch 85/100, Train loss: 5.6867, Val loss: 9.1999, Best Train loss: 5.7250, Best Val loss: 9.1862\n",
      "Epoch 86/100, Train loss: 5.6565, Val loss: 9.0527, Best Train loss: 5.6565, Best Val loss: 9.0527\n",
      "Epoch 87/100, Train loss: 5.7366, Val loss: 9.0156, Best Train loss: 5.7366, Best Val loss: 9.0156\n"
     ]
    },
    {
     "name": "stderr",
     "output_type": "stream",
     "text": [
      " 89%|████████▉ | 89/100 [00:07<00:00, 11.84it/s]"
     ]
    },
    {
     "name": "stdout",
     "output_type": "stream",
     "text": [
      "Epoch 88/100, Train loss: 5.5977, Val loss: 9.1667, Best Train loss: 5.7366, Best Val loss: 9.0156\n",
      "Epoch 89/100, Train loss: 5.5716, Val loss: 8.9604, Best Train loss: 5.5716, Best Val loss: 8.9604\n",
      "Epoch 90/100, Train loss: 5.6235, Val loss: 8.9668, Best Train loss: 5.5716, Best Val loss: 8.9604\n"
     ]
    },
    {
     "name": "stderr",
     "output_type": "stream",
     "text": [
      " 93%|█████████▎| 93/100 [00:08<00:00, 12.25it/s]"
     ]
    },
    {
     "name": "stdout",
     "output_type": "stream",
     "text": [
      "Epoch 91/100, Train loss: 5.8937, Val loss: 9.0385, Best Train loss: 5.5716, Best Val loss: 8.9604\n",
      "Epoch 92/100, Train loss: 5.5638, Val loss: 9.2636, Best Train loss: 5.5716, Best Val loss: 8.9604\n",
      "Epoch 93/100, Train loss: 5.5300, Val loss: 9.0332, Best Train loss: 5.5716, Best Val loss: 8.9604\n"
     ]
    },
    {
     "name": "stderr",
     "output_type": "stream",
     "text": [
      " 95%|█████████▌| 95/100 [00:08<00:00, 12.21it/s]"
     ]
    },
    {
     "name": "stdout",
     "output_type": "stream",
     "text": [
      "Epoch 94/100, Train loss: 5.5416, Val loss: 8.9716, Best Train loss: 5.5716, Best Val loss: 8.9604\n",
      "Epoch 95/100, Train loss: 5.4982, Val loss: 8.9463, Best Train loss: 5.4982, Best Val loss: 8.9463\n",
      "Epoch 96/100, Train loss: 5.4776, Val loss: 8.9540, Best Train loss: 5.4982, Best Val loss: 8.9463\n"
     ]
    },
    {
     "name": "stderr",
     "output_type": "stream",
     "text": [
      " 99%|█████████▉| 99/100 [00:08<00:00, 12.69it/s]"
     ]
    },
    {
     "name": "stdout",
     "output_type": "stream",
     "text": [
      "Epoch 97/100, Train loss: 5.6014, Val loss: 8.9662, Best Train loss: 5.4982, Best Val loss: 8.9463\n",
      "Epoch 98/100, Train loss: 5.4733, Val loss: 8.9736, Best Train loss: 5.4982, Best Val loss: 8.9463\n",
      "Epoch 99/100, Train loss: 5.6935, Val loss: 8.9700, Best Train loss: 5.4982, Best Val loss: 8.9463\n"
     ]
    },
    {
     "name": "stderr",
     "output_type": "stream",
     "text": [
      "100%|██████████| 100/100 [00:08<00:00, 11.52it/s]"
     ]
    },
    {
     "name": "stdout",
     "output_type": "stream",
     "text": [
      "Epoch 100/100, Train loss: 5.4614, Val loss: 8.9672, Best Train loss: 5.4982, Best Val loss: 8.9463\n"
     ]
    },
    {
     "name": "stderr",
     "output_type": "stream",
     "text": [
      "\n"
     ]
    }
   ],
   "source": [
    "import torch.optim as optim\n",
    "from torch.optim.lr_scheduler import CosineAnnealingLR\n",
    "from tqdm.auto import tqdm\n",
    "\n",
    "train_losses = []\n",
    "val_losses = []\n",
    "\n",
    "epochs = 100\n",
    "\n",
    "model = LSTMModel(input_dim=5, hidden_dim=500, num_layers=2, output_dim=1).cuda()\n",
    "print(model)\n",
    "\n",
    "best_val_loss = float('inf')\n",
    "best_train_loss = float('inf')\n",
    "\n",
    "criterion = nn.MSELoss()\n",
    "optimizer = optim.Adam(model.parameters(), lr=1e-3)\n",
    "lr_scheduler = CosineAnnealingLR(optimizer, T_max=epochs, eta_min=0)\n",
    "\n",
    "for epoch in tqdm(range(epochs)):\n",
    "    # Training\n",
    "    model.train()\n",
    "    total_loss = 0.0\n",
    "\n",
    "    for features, labels in train_loader:\n",
    "        features = features.cuda()\n",
    "        labels = labels.cuda()\n",
    "        outputs = model(features).squeeze(-1)\n",
    "        loss = criterion(outputs, labels)\n",
    "        total_loss += loss.item()\n",
    "\n",
    "        optimizer.zero_grad()\n",
    "        loss.backward()\n",
    "        optimizer.step()\n",
    "\n",
    "    # Learning rate update\n",
    "    lr_scheduler.step()\n",
    "\n",
    "    avg_train_loss = total_loss / len(train_loader)\n",
    "\n",
    "    # Validation\n",
    "    model.eval()\n",
    "    total_val_loss = 0.0\n",
    "\n",
    "    with torch.no_grad():\n",
    "        for features, labels in val_loader:\n",
    "            features = features.cuda()\n",
    "            labels = labels.cuda()\n",
    "            outputs = model(features).squeeze(-1)\n",
    "            loss = criterion(outputs, labels)\n",
    "            total_val_loss += loss.item()\n",
    "\n",
    "    avg_val_loss = total_val_loss / len(val_loader)\n",
    "\n",
    "    # Checkpoint\n",
    "    if avg_val_loss < best_val_loss:\n",
    "        best_val_loss = avg_val_loss\n",
    "        best_train_loss = avg_train_loss\n",
    "        torch.save(model.state_dict(), 'best_model.pth')\n",
    "\n",
    "    print(f'Epoch {epoch+1}/{epochs}, Train loss: {avg_train_loss:.4f}, Val loss: {avg_val_loss:.4f}, Best Train loss: {best_train_loss:.4f}, Best Val loss: {best_val_loss:.4f}')\n",
    "\n",
    "    # Store performance\n",
    "    train_losses.append(avg_train_loss)\n",
    "    val_losses.append(avg_val_loss)"
   ]
  },
  {
   "cell_type": "markdown",
   "id": "a7984c6e-6652-4160-b572-07d48bc93a3f",
   "metadata": {
    "id": "a7984c6e-6652-4160-b572-07d48bc93a3f"
   },
   "source": [
    "#### Visualizing the model performance"
   ]
  },
  {
   "cell_type": "code",
   "execution_count": 388,
   "id": "5559d850-1fb5-4b04-b6ca-60c5b309f34e",
   "metadata": {
    "id": "5559d850-1fb5-4b04-b6ca-60c5b309f34e"
   },
   "outputs": [
    {
     "data": {
      "image/png": "[encoded data removed]",
      "text/plain": [
       "<Figure size 1000x500 with 1 Axes>"
      ]
     },
     "metadata": {},
     "output_type": "display_data"
    }
   ],
   "source": [
    "import matplotlib.pyplot as plt\n",
    "\n",
    "plt.figure(figsize=(10, 5))\n",
    "plt.plot(train_losses)\n",
    "plt.plot(val_losses)\n",
    "plt.xlabel('Epochs')\n",
    "plt.ylabel('Loss')\n",
    "plt.legend(['Train', 'Val'])\n",
    "\n",
    "plt.show()"
   ]
  },
  {
   "cell_type": "markdown",
   "id": "89c7e51b-8ab6-4aa2-877d-39b6daf55c20",
   "metadata": {
    "id": "89c7e51b-8ab6-4aa2-877d-39b6daf55c20"
   },
   "source": [
    "## D. Evaluating Your Trained Model"
   ]
  },
  {
   "cell_type": "code",
   "execution_count": 389,
   "id": "4bcf8580-42ee-4ee7-ad15-9f080cc57a33",
   "metadata": {
    "id": "4bcf8580-42ee-4ee7-ad15-9f080cc57a33"
   },
   "outputs": [
    {
     "name": "stdout",
     "output_type": "stream",
     "text": [
      "tensor([  1.9349,   1.8626,   1.6376,   2.2967,   2.4641,   3.5535,   6.7264,\n",
      "         12.6174,  12.4015,  10.2581,   8.1567,  10.2696,  14.3285,  11.9209,\n",
      "         16.4716,  19.0878,  12.0268,   5.0882,   3.3692,   5.2850,   3.2805,\n",
      "          4.5581,   7.8043,   6.2712,   6.6249,   7.4376,   7.0275,   5.3398,\n",
      "          4.7067,   6.2905,   8.1701,   7.0765,   8.7311,  10.4658,  11.5080,\n",
      "         14.7729,  19.0481,  11.6172,  18.7302,  22.7188,  20.4899,  20.9945,\n",
      "         29.1596,  34.9135,  32.8878,  20.6759,  20.8233,  10.9444,   9.6176,\n",
      "          7.8089,   7.7508,   8.4286,  12.2451,  13.1673,  15.5767,  15.7473,\n",
      "         12.0196,   8.8120,  10.4226,  13.9535,  19.5590,  17.3990,  13.2441,\n",
      "         14.3640,  13.2685,  14.0093,  11.8265,  12.7399,  12.1833,  12.0172,\n",
      "         12.1573,  13.9960,  14.1010,  15.1572,  15.4148,  18.0427,  18.5233,\n",
      "         18.5846,  17.8228,  19.4757,  23.0292,  21.8476,  23.2710,  28.5384,\n",
      "         30.7859,  34.5753,  47.4033,  64.2264,  77.6793, 106.7805, 108.6442,\n",
      "        158.2328, 168.2967, 171.4965]) tensor([  1.5124,   1.5215,   1.3454,   2.1154,   2.5700,   2.9598,   8.5359,\n",
      "         11.6700,  12.2200,  10.5860,   8.0810,  10.8940,  14.5660,  10.0460,\n",
      "         17.1250,  19.5970,  10.6330,   6.2626,   3.2751,   4.6389,   4.0081,\n",
      "          4.5462,   7.6542,   6.0304,   6.7634,   7.4688,   6.7452,   4.9915,\n",
      "          4.3606,   7.7192,   8.0719,   7.3482,   8.3779,  10.5130,  11.2560,\n",
      "         14.3980,  19.4180,  11.7370,  19.2330,  23.0750,  19.2900,  21.9430,\n",
      "         28.2980,  34.0970,  32.7050,  20.1050,  22.1570,  11.0490,   7.5612,\n",
      "          8.7678,   8.5451,   9.5110,  12.1620,  13.2480,  16.7560,  15.9860,\n",
      "         11.8300,   8.7768,  10.6430,  14.0080,  17.4820,  16.8210,  12.0170,\n",
      "         14.6310,  13.0530,  13.7410,  11.6250,  13.0620,  12.2470,  11.9910,\n",
      "         11.8110,  13.7860,  13.6730,  14.9390,  15.2670,  18.1830,  18.4880,\n",
      "         18.6040,  18.3330,  19.5120,  22.2300,  21.4010,  22.0020,  28.2580,\n",
      "         28.6330,  35.1480,  46.2070,  61.7000,  68.4090, 106.1300, 109.6700,\n",
      "        154.6300, 166.2500, 206.3300])\n",
      "Test MSE: 14.59869322502954\n"
     ]
    }
   ],
   "source": [
    "# Load the trained weights\n",
    "model.load_state_dict(torch.load('best_model.pth'))\n",
    "\n",
    "# Set the model to evaluation mode\n",
    "model.eval()\n",
    "\n",
    "test_correct = 0\n",
    "test_total = 0\n",
    "\n",
    "pred_value = []\n",
    "actual_value = []\n",
    "\n",
    "with torch.no_grad():\n",
    "    for features, labels in test_loader:\n",
    "        features = features.cuda()\n",
    "        outputs = model(features).squeeze(-1)\n",
    "        pred_value.append(outputs.cpu())\n",
    "        actual_value.append(labels)\n",
    "\n",
    "pred_value = torch.cat(pred_value)\n",
    "actual_value = torch.cat(actual_value)\n",
    "\n",
    "print(pred_value, actual_value)\n",
    "\n",
    "print(f\"Test MSE: {mean_squared_error(actual_value, pred_value)}\")"
   ]
  },
  {
   "cell_type": "code",
   "execution_count": 390,
   "id": "dde4e0a5-32be-4db3-95fb-4fad8926ce9b",
   "metadata": {
    "id": "dde4e0a5-32be-4db3-95fb-4fad8926ce9b"
   },
   "outputs": [
    {
     "data": {
      "image/png": "[encoded data removed]",
      "text/plain": [
       "<Figure size 1000x500 with 1 Axes>"
      ]
     },
     "metadata": {},
     "output_type": "display_data"
    }
   ],
   "source": [
    "plt.figure(figsize=(10, 5))\n",
    "plt.plot(pred_value[:], marker='o')\n",
    "plt.plot(actual_value[:], marker='o')\n",
    "plt.xlabel('Day')\n",
    "plt.ylabel('Price')\n",
    "plt.legend(['Pred', 'Actual'])\n",
    "\n",
    "plt.show()"
   ]
  },
  {
   "cell_type": "code",
   "execution_count": null,
   "id": "LNOafPmRZUrE",
   "metadata": {
    "id": "LNOafPmRZUrE"
   },
   "outputs": [],
   "source": []
  }
 ],
 "metadata": {
  "accelerator": "GPU",
  "colab": {
   "gpuType": "T4",
   "provenance": [],
   "toc_visible": true
  },
  "kernelspec": {
   "display_name": "Yichenng",
   "language": "python",
   "name": "python3"
  },
  "language_info": {
   "codemirror_mode": {
    "name": "ipython",
    "version": 3
   },
   "file_extension": ".py",
   "mimetype": "text/x-python",
   "name": "python",
   "nbconvert_exporter": "python",
   "pygments_lexer": "ipython3",
   "version": "3.10.16"
  }
 },
 "nbformat": 4,
 "nbformat_minor": 5
}
